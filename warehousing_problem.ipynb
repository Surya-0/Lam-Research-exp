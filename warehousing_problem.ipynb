{
 "cells": [
  {
   "cell_type": "code",
   "execution_count": 1,
   "id": "initial_id",
   "metadata": {
    "ExecuteTime": {
     "end_time": "2024-06-18T16:55:42.108354Z",
     "start_time": "2024-06-18T16:55:42.093554Z"
    },
    "collapsed": true
   },
   "outputs": [],
   "source": [
    "from pulp import *"
   ]
  },
  {
   "cell_type": "markdown",
   "id": "1966d9fb5addfbce",
   "metadata": {
    "collapsed": false
   },
   "source": [
    "### We have 2 warehouses, 5-6 retail/customers. Each customer has their own demand and cost associated with transportation from each of the 2 warehouses. The optimization here is to make sure the demand for every customer is met from a warehouse that is cost-effective."
   ]
  },
  {
   "cell_type": "code",
   "execution_count": 2,
   "id": "28a469e53ecbbf61",
   "metadata": {
    "ExecuteTime": {
     "end_time": "2024-06-18T16:58:34.446388Z",
     "start_time": "2024-06-18T16:58:34.443108Z"
    },
    "collapsed": false
   },
   "outputs": [],
   "source": [
    "Warehouses = [\"A\", \"B\"]\n",
    "supply = {\n",
    "    \"A\": 1000, # 1000 products in warehouse A\n",
    "    \"B\": 4000\n",
    "}\n",
    "\n",
    "Customers = [\"1\", \"2\", \"3\", \"4\", \"5\"]\n",
    "\n",
    "demand = {\n",
    "    \"1\": 500,\n",
    "    \"2\": 900,\n",
    "    \"3\": 1800,\n",
    "    \"4\": 200,\n",
    "    \"5\": 700,\n",
    "}\n",
    "\n",
    "costs = [\n",
    "    [2, 4, 5, 2, 1],\n",
    "    [3, 1, 3, 2, 3]\n",
    "]"
   ]
  },
  {
   "cell_type": "code",
   "execution_count": 3,
   "id": "90a1a4fe",
   "metadata": {
    "ExecuteTime": {
     "end_time": "2024-06-18T16:59:11.422667Z",
     "start_time": "2024-06-18T16:59:11.419120Z"
    }
   },
   "outputs": [
    {
     "data": {
      "text/plain": [
       "defaultdict(<function pulp.utilities.__makeDict.<locals>.<lambda>()>,\n",
       "            {'A': defaultdict(<function pulp.utilities.__makeDict.<locals>.<lambda>()>,\n",
       "                         {'1': 2, '2': 4, '3': 5, '4': 2, '5': 1}),\n",
       "             'B': defaultdict(<function pulp.utilities.__makeDict.<locals>.<lambda>()>,\n",
       "                         {'1': 3, '2': 1, '3': 3, '4': 2, '5': 3})})"
      ]
     },
     "execution_count": 3,
     "metadata": {},
     "output_type": "execute_result"
    }
   ],
   "source": [
    "cost = makeDict([Warehouses, Customers], costs, 0)\n",
    "\n",
    "# cost = {\n",
    "#     'A': {'1': 2, '2': 4, '3': 5, '4': 2, '5': 1},\n",
    "#     'B': {'1': 3, '2': 1, '3': 3, '4': 2, '5': 3}\n",
    "# }\n",
    "cost"
   ]
  },
  {
   "cell_type": "code",
   "execution_count": 4,
   "id": "d9077d20a6190829",
   "metadata": {
    "ExecuteTime": {
     "end_time": "2024-06-18T16:59:41.211758Z",
     "start_time": "2024-06-18T16:59:41.204414Z"
    },
    "collapsed": false
   },
   "outputs": [
    {
     "data": {
      "text/plain": [
       "[('A', '1'),\n",
       " ('A', '2'),\n",
       " ('A', '3'),\n",
       " ('A', '4'),\n",
       " ('A', '5'),\n",
       " ('B', '1'),\n",
       " ('B', '2'),\n",
       " ('B', '3'),\n",
       " ('B', '4'),\n",
       " ('B', '5')]"
      ]
     },
     "execution_count": 4,
     "metadata": {},
     "output_type": "execute_result"
    }
   ],
   "source": [
    "prob = LpProblem(\"WarehousePlanning\", LpMinimize)\n",
    "\n",
    "Routes = [(w, c) for w in Warehouses for c in Customers]\n",
    "Routes"
   ]
  },
  {
   "cell_type": "code",
   "execution_count": 7,
   "id": "cc96e6f153fd34f7",
   "metadata": {
    "collapsed": false
   },
   "outputs": [
    {
     "data": {
      "text/plain": [
       "{'A': {'1': Route_A_1,\n",
       "  '2': Route_A_2,\n",
       "  '3': Route_A_3,\n",
       "  '4': Route_A_4,\n",
       "  '5': Route_A_5},\n",
       " 'B': {'1': Route_B_1,\n",
       "  '2': Route_B_2,\n",
       "  '3': Route_B_3,\n",
       "  '4': Route_B_4,\n",
       "  '5': Route_B_5}}"
      ]
     },
     "execution_count": 7,
     "metadata": {},
     "output_type": "execute_result"
    }
   ],
   "source": [
    "vars = LpVariable.dicts(\"Route\", (Warehouses, Customers), lowBound=0, upBound=None, cat=LpInteger)\n",
    "vars"
   ]
  },
  {
   "cell_type": "code",
   "execution_count": 8,
   "id": "5239c333",
   "metadata": {},
   "outputs": [],
   "source": [
    "prob += lpSum([vars[w][c] * cost[w][c] for (w, c) in Routes]), \"Sum_of_Transporting_Costs\""
   ]
  },
  {
   "cell_type": "code",
   "execution_count": 9,
   "id": "90fa19b7",
   "metadata": {},
   "outputs": [],
   "source": [
    "for w in Warehouses:\n",
    "    prob += lpSum([vars[w][c] for c in Customers]) <= supply[w], \"Sum_of_Products_out_of_Warehouse_%s\" % w\n",
    "    \n",
    "for c in Customers:\n",
    "    prob += lpSum([vars[w][c] for w in Warehouses]) >= demand[c], \"Sum_of_Products_into_Customer_%s\" % c"
   ]
  },
  {
   "cell_type": "code",
   "execution_count": 11,
   "id": "7f7695c9",
   "metadata": {},
   "outputs": [
    {
     "data": {
      "text/plain": [
       "[Route_A_1,\n",
       " Route_A_2,\n",
       " Route_A_3,\n",
       " Route_A_4,\n",
       " Route_A_5,\n",
       " Route_B_1,\n",
       " Route_B_2,\n",
       " Route_B_3,\n",
       " Route_B_4,\n",
       " Route_B_5]"
      ]
     },
     "execution_count": 11,
     "metadata": {},
     "output_type": "execute_result"
    }
   ],
   "source": [
    "prob.writeLP(\"WarehousingProblem.lp\")"
   ]
  },
  {
   "cell_type": "code",
   "execution_count": 13,
   "id": "f351e278",
   "metadata": {},
   "outputs": [
    {
     "name": "stdout",
     "output_type": "stream",
     "text": [
      "Route_A_1 = 300.0\n",
      "Route_A_2 = 0.0\n",
      "Route_A_3 = 0.0\n",
      "Route_A_4 = 0.0\n",
      "Route_A_5 = 700.0\n",
      "Route_B_1 = 200.0\n",
      "Route_B_2 = 900.0\n",
      "Route_B_3 = 1800.0\n",
      "Route_B_4 = 200.0\n",
      "Route_B_5 = 0.0\n"
     ]
    }
   ],
   "source": [
    "prob.solve(pulp.PULP_CBC_CMD(msg=False))\n",
    "for v in prob.variables():\n",
    "    print(v.name, \"=\", v.varValue)"
   ]
  },
  {
   "cell_type": "code",
   "execution_count": 14,
   "id": "70b200fb",
   "metadata": {},
   "outputs": [
    {
     "name": "stdout",
     "output_type": "stream",
     "text": [
      "Total Cost of Transportation =  8600.0\n"
     ]
    }
   ],
   "source": [
    "print(\"Total Cost of Transportation = \", value(prob.objective))"
   ]
  },
  {
   "cell_type": "code",
   "execution_count": null,
   "id": "972028c6",
   "metadata": {},
   "outputs": [],
   "source": []
  }
 ],
 "metadata": {
  "kernelspec": {
   "display_name": "Python 3",
   "language": "python",
   "name": "python3"
  },
  "language_info": {
   "codemirror_mode": {
    "name": "ipython",
    "version": 3
   },
   "file_extension": ".py",
   "mimetype": "text/x-python",
   "name": "python",
   "nbconvert_exporter": "python",
   "pygments_lexer": "ipython3",
   "version": "3.10.13"
  }
 },
 "nbformat": 4,
 "nbformat_minor": 5
}

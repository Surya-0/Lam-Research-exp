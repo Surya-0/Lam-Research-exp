{
 "cells": [
  {
   "cell_type": "code",
   "execution_count": 1,
   "outputs": [],
   "source": [
    "import numpy as np\n",
    "import pandas as pd\n"
   ],
   "metadata": {
    "collapsed": false,
    "ExecuteTime": {
     "end_time": "2024-07-10T14:28:37.435064Z",
     "start_time": "2024-07-10T14:28:36.990095Z"
    }
   },
   "id": "1d05e3138adc8a8d"
  },
  {
   "cell_type": "code",
   "execution_count": 2,
   "id": "initial_id",
   "metadata": {
    "collapsed": true,
    "ExecuteTime": {
     "end_time": "2024-07-10T14:28:38.366172Z",
     "start_time": "2024-07-10T14:28:38.360104Z"
    }
   },
   "outputs": [],
   "source": [
    "\n",
    "# Generate a time series dataset\n",
    "def generate_time_series_data(n, start='2020-01-01'):\n",
    "    date_rng = pd.date_range(start=start, periods=n, freq='D')\n",
    "    df = pd.DataFrame(date_rng, columns=['date'])\n",
    "    df['value'] = np.sin(np.linspace(0, 20, n)) + np.random.normal(scale=0.5, size=n)\n",
    "    df.set_index('date', inplace=True)\n",
    "    return df\n",
    "\n"
   ]
  },
  {
   "cell_type": "code",
   "execution_count": 3,
   "outputs": [
    {
     "name": "stdout",
     "output_type": "stream",
     "text": [
      "               value\n",
      "date                \n",
      "2020-01-01  0.237282\n",
      "2020-01-02  0.651547\n",
      "2020-01-03  0.421653\n",
      "2020-01-04  0.678150\n",
      "2020-01-05 -0.239010\n",
      "2020-01-06  0.073131\n",
      "2020-01-07 -0.313543\n",
      "2020-01-08 -0.149431\n",
      "2020-01-09 -1.079659\n",
      "2020-01-10 -1.372473\n",
      "2020-01-11 -1.490885\n",
      "2020-01-12 -1.655116\n",
      "2020-01-13  0.068951\n",
      "2020-01-14  0.582075\n",
      "2020-01-15  1.533374\n",
      "2020-01-16  0.215929\n",
      "2020-01-17  0.532997\n",
      "2020-01-18 -1.121499\n",
      "2020-01-19 -1.002272\n",
      "2020-01-20 -0.966925\n",
      "2020-01-21 -1.104445\n",
      "2020-01-22  0.198770\n",
      "2020-01-23 -0.170528\n",
      "2020-01-24 -0.376634\n",
      "2020-01-25  0.810107\n",
      "2020-01-26  0.775052\n",
      "2020-01-27  1.675863\n",
      "2020-01-28 -0.133431\n",
      "2020-01-29  0.061774\n",
      "2020-01-30 -0.719497\n",
      "2020-01-31 -0.923652\n",
      "2020-02-01 -0.980696\n",
      "2020-02-02  0.071081\n",
      "2020-02-03  0.041105\n",
      "2020-02-04  0.324776\n",
      "2020-02-05  0.879213\n"
     ]
    }
   ],
   "source": [
    "# Example usage\n",
    "n = 36  # Number of days\n",
    "df = generate_time_series_data(n)\n",
    "print(df)"
   ],
   "metadata": {
    "collapsed": false,
    "ExecuteTime": {
     "end_time": "2024-07-10T14:28:40.048208Z",
     "start_time": "2024-07-10T14:28:40.044808Z"
    }
   },
   "id": "bb1c17210f776c67"
  },
  {
   "cell_type": "code",
   "execution_count": null,
   "outputs": [],
   "source": [],
   "metadata": {
    "collapsed": false
   },
   "id": "b2a506ed9d5a1d45"
  }
 ],
 "metadata": {
  "kernelspec": {
   "display_name": "Python 3",
   "language": "python",
   "name": "python3"
  },
  "language_info": {
   "codemirror_mode": {
    "name": "ipython",
    "version": 2
   },
   "file_extension": ".py",
   "mimetype": "text/x-python",
   "name": "python",
   "nbconvert_exporter": "python",
   "pygments_lexer": "ipython2",
   "version": "2.7.6"
  }
 },
 "nbformat": 4,
 "nbformat_minor": 5
}

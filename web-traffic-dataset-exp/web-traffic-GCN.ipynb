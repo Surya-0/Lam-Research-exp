{
 "cells": [
  {
   "cell_type": "markdown",
   "source": [
    "### The purpose of this notebook is to perform regression not classification  "
   ],
   "metadata": {
    "collapsed": false
   },
   "id": "9dc0a00ba9003afd"
  },
  {
   "cell_type": "code",
   "execution_count": 1,
   "id": "initial_id",
   "metadata": {
    "collapsed": true,
    "ExecuteTime": {
     "end_time": "2024-05-29T12:08:03.959417Z",
     "start_time": "2024-05-29T12:07:59.018216Z"
    }
   },
   "outputs": [],
   "source": [
    "import numpy as np\n",
    "import pandas as pd\n",
    "import matplotlib.pyplot as plt\n",
    "import torch\n",
    "from torch_geometric.datasets import WikipediaNetwork\n",
    "import torch_geometric.transforms as T"
   ]
  },
  {
   "cell_type": "code",
   "execution_count": 2,
   "outputs": [
    {
     "data": {
      "text/plain": "Data(x=[2277, 2325], edge_index=[2, 36101], y=[2277], train_mask=[2277], val_mask=[2277], test_mask=[2277])"
     },
     "execution_count": 2,
     "metadata": {},
     "output_type": "execute_result"
    }
   ],
   "source": [
    "dataset = WikipediaNetwork(root=\".\", name=\"chameleon\", transform = T.RandomNodeSplit(num_val=200, num_test=500))\n",
    "data = dataset[0]\n",
    "data"
   ],
   "metadata": {
    "collapsed": false,
    "ExecuteTime": {
     "end_time": "2024-05-29T12:08:03.970406Z",
     "start_time": "2024-05-29T12:08:03.943044Z"
    }
   },
   "id": "e4af1700b5a9cbce"
  },
  {
   "cell_type": "code",
   "execution_count": 3,
   "outputs": [
    {
     "data": {
      "text/plain": "tensor(1.)"
     },
     "execution_count": 3,
     "metadata": {},
     "output_type": "execute_result"
    }
   ],
   "source": [
    "data.x.max()"
   ],
   "metadata": {
    "collapsed": false,
    "ExecuteTime": {
     "end_time": "2024-05-29T12:08:03.971714Z",
     "start_time": "2024-05-29T12:08:03.964804Z"
    }
   },
   "id": "8a5381a60ae0c586"
  },
  {
   "cell_type": "code",
   "execution_count": 4,
   "outputs": [
    {
     "data": {
      "text/plain": "tensor(0.)"
     },
     "execution_count": 4,
     "metadata": {},
     "output_type": "execute_result"
    }
   ],
   "source": [
    "data.x.min()"
   ],
   "metadata": {
    "collapsed": false,
    "ExecuteTime": {
     "end_time": "2024-05-29T12:08:03.975780Z",
     "start_time": "2024-05-29T12:08:03.969645Z"
    }
   },
   "id": "14e2209ea782e4a5"
  },
  {
   "cell_type": "code",
   "execution_count": 5,
   "outputs": [
    {
     "data": {
      "text/plain": "tensor(4)"
     },
     "execution_count": 5,
     "metadata": {},
     "output_type": "execute_result"
    }
   ],
   "source": [
    "data.y.max()"
   ],
   "metadata": {
    "collapsed": false,
    "ExecuteTime": {
     "end_time": "2024-05-29T12:08:13.907215Z",
     "start_time": "2024-05-29T12:08:13.880611Z"
    }
   },
   "id": "f595a225973cc401"
  },
  {
   "cell_type": "code",
   "execution_count": 6,
   "outputs": [
    {
     "data": {
      "text/plain": "tensor(0)"
     },
     "execution_count": 6,
     "metadata": {},
     "output_type": "execute_result"
    }
   ],
   "source": [
    "data.y.min()"
   ],
   "metadata": {
    "collapsed": false,
    "ExecuteTime": {
     "end_time": "2024-05-29T12:08:18.132523Z",
     "start_time": "2024-05-29T12:08:18.108696Z"
    }
   },
   "id": "d4e9869e20372102"
  },
  {
   "cell_type": "code",
   "execution_count": 7,
   "outputs": [
    {
     "data": {
      "text/plain": "tensor([0, 3, 3,  ..., 0, 4, 0])"
     },
     "execution_count": 7,
     "metadata": {},
     "output_type": "execute_result"
    }
   ],
   "source": [
    "data.y"
   ],
   "metadata": {
    "collapsed": false,
    "ExecuteTime": {
     "end_time": "2024-05-29T12:08:23.396111Z",
     "start_time": "2024-05-29T12:08:23.381893Z"
    }
   },
   "id": "93adafdfda7c9d7d"
  },
  {
   "cell_type": "code",
   "execution_count": 5,
   "outputs": [
    {
     "data": {
      "text/plain": "tensor(0.0055)"
     },
     "execution_count": 5,
     "metadata": {},
     "output_type": "execute_result"
    }
   ],
   "source": [
    "data.x.mean()"
   ],
   "metadata": {
    "collapsed": false,
    "ExecuteTime": {
     "end_time": "2024-05-28T19:00:17.408958Z",
     "start_time": "2024-05-28T19:00:17.392520Z"
    }
   },
   "id": "29a8074836ba8e75"
  },
  {
   "cell_type": "code",
   "execution_count": 6,
   "outputs": [
    {
     "data": {
      "text/plain": "tensor(0.0740)"
     },
     "execution_count": 6,
     "metadata": {},
     "output_type": "execute_result"
    }
   ],
   "source": [
    "data.x.std()"
   ],
   "metadata": {
    "collapsed": false,
    "ExecuteTime": {
     "end_time": "2024-05-28T19:00:17.415892Z",
     "start_time": "2024-05-28T19:00:17.397689Z"
    }
   },
   "id": "7dc94881a5e76829"
  },
  {
   "cell_type": "code",
   "execution_count": 7,
   "outputs": [
    {
     "data": {
      "text/plain": "tensor([0, 3, 3,  ..., 0, 4, 0])"
     },
     "execution_count": 7,
     "metadata": {},
     "output_type": "execute_result"
    }
   ],
   "source": [
    "data.y"
   ],
   "metadata": {
    "collapsed": false,
    "ExecuteTime": {
     "end_time": "2024-05-28T19:00:17.416039Z",
     "start_time": "2024-05-28T19:00:17.401515Z"
    }
   },
   "id": "95f02ebabe3cbf31"
  },
  {
   "cell_type": "code",
   "execution_count": 8,
   "outputs": [],
   "source": [
    "a = data.clone()"
   ],
   "metadata": {
    "collapsed": false,
    "ExecuteTime": {
     "end_time": "2024-05-28T19:00:17.416109Z",
     "start_time": "2024-05-28T19:00:17.405059Z"
    }
   },
   "id": "62cac772ab3bb920"
  },
  {
   "cell_type": "code",
   "execution_count": 9,
   "outputs": [
    {
     "data": {
      "text/plain": "Data(x=[2277, 2325], edge_index=[2, 36101], y=[2277], train_mask=[2277], val_mask=[2277], test_mask=[2277])"
     },
     "execution_count": 9,
     "metadata": {},
     "output_type": "execute_result"
    }
   ],
   "source": [
    "a"
   ],
   "metadata": {
    "collapsed": false,
    "ExecuteTime": {
     "end_time": "2024-05-28T19:00:17.420482Z",
     "start_time": "2024-05-28T19:00:17.408139Z"
    }
   },
   "id": "f3c3ecdab7af0824"
  },
  {
   "cell_type": "code",
   "execution_count": 10,
   "outputs": [
    {
     "data": {
      "text/plain": "tensor([0, 3, 3,  ..., 0, 4, 0])"
     },
     "execution_count": 10,
     "metadata": {},
     "output_type": "execute_result"
    }
   ],
   "source": [
    "a.y"
   ],
   "metadata": {
    "collapsed": false,
    "ExecuteTime": {
     "end_time": "2024-05-28T19:00:17.426586Z",
     "start_time": "2024-05-28T19:00:17.410418Z"
    }
   },
   "id": "9f97fbc1b5ae8fff"
  },
  {
   "cell_type": "code",
   "execution_count": 11,
   "outputs": [
    {
     "name": "stdout",
     "output_type": "stream",
     "text": [
      "Training nodes: 1577\n",
      "Validation nodes: 200\n",
      "Test nodes: 500\n"
     ]
    }
   ],
   "source": [
    "data = dataset[0]\n",
    "print(\"Training nodes:\", data.train_mask.sum().item())\n",
    "print(\"Validation nodes:\", data.val_mask.sum().item())\n",
    "print(\"Test nodes:\", data.test_mask.sum().item())"
   ],
   "metadata": {
    "collapsed": false,
    "ExecuteTime": {
     "end_time": "2024-05-28T19:00:17.431967Z",
     "start_time": "2024-05-28T19:00:17.412122Z"
    }
   },
   "id": "49c08e5d6ec5c352"
  },
  {
   "cell_type": "code",
   "execution_count": 12,
   "outputs": [
    {
     "name": "stdout",
     "output_type": "stream",
     "text": [
      "Dataset: WikipediaNetwork()\n",
      "-------------------\n",
      "Number of graphs: 1\n",
      "Number of nodes: 2277\n",
      "Number of unique features: 2325\n",
      "Number of classes: 5\n",
      "\n",
      "Graph:\n",
      "------\n",
      "Edges are directed: True\n",
      "Graph has isolated nodes: False\n",
      "Graph has loops: True\n"
     ]
    }
   ],
   "source": [
    "# Print information about the dataset\n",
    "print(f'Dataset: {dataset}')\n",
    "print('-------------------')\n",
    "print(f'Number of graphs: {len(dataset)}')\n",
    "print(f'Number of nodes: {data.x.shape[0]}')\n",
    "print(f'Number of unique features: {dataset.num_features}')\n",
    "print(f'Number of classes: {dataset.num_classes}')\n",
    "\n",
    "# Print information about the graph\n",
    "print(f'\\nGraph:')\n",
    "print('------')\n",
    "print(f'Edges are directed: {data.is_directed()}')\n",
    "print(f'Graph has isolated nodes: {data.has_isolated_nodes()}')\n",
    "print(f'Graph has loops: {data.has_self_loops()}')"
   ],
   "metadata": {
    "collapsed": false,
    "ExecuteTime": {
     "end_time": "2024-05-28T19:00:17.493971Z",
     "start_time": "2024-05-28T19:00:17.419940Z"
    }
   },
   "id": "a71324c64866a65a"
  },
  {
   "cell_type": "code",
   "execution_count": 13,
   "outputs": [
    {
     "data": {
      "text/plain": "2325"
     },
     "execution_count": 13,
     "metadata": {},
     "output_type": "execute_result"
    }
   ],
   "source": [
    "data.num_features"
   ],
   "metadata": {
    "collapsed": false,
    "ExecuteTime": {
     "end_time": "2024-05-28T19:00:17.494459Z",
     "start_time": "2024-05-28T19:00:17.437214Z"
    }
   },
   "id": "d7228db141fe55fe"
  },
  {
   "cell_type": "code",
   "execution_count": 14,
   "outputs": [
    {
     "data": {
      "text/plain": "2325"
     },
     "execution_count": 14,
     "metadata": {},
     "output_type": "execute_result"
    }
   ],
   "source": [
    "data.num_node_features"
   ],
   "metadata": {
    "collapsed": false,
    "ExecuteTime": {
     "end_time": "2024-05-28T19:00:17.494825Z",
     "start_time": "2024-05-28T19:00:17.439803Z"
    }
   },
   "id": "69de75667c5b6bf2"
  },
  {
   "cell_type": "code",
   "execution_count": 15,
   "outputs": [
    {
     "data": {
      "text/plain": "0"
     },
     "execution_count": 15,
     "metadata": {},
     "output_type": "execute_result"
    }
   ],
   "source": [
    "data.num_edge_features"
   ],
   "metadata": {
    "collapsed": false,
    "ExecuteTime": {
     "end_time": "2024-05-28T19:00:17.494903Z",
     "start_time": "2024-05-28T19:00:17.442365Z"
    }
   },
   "id": "e7367e5963a2c9a7"
  },
  {
   "cell_type": "code",
   "execution_count": 16,
   "outputs": [
    {
     "data": {
      "text/plain": "torch.Size([2, 36101])"
     },
     "execution_count": 16,
     "metadata": {},
     "output_type": "execute_result"
    }
   ],
   "source": [
    "data.edge_index.shape"
   ],
   "metadata": {
    "collapsed": false,
    "ExecuteTime": {
     "end_time": "2024-05-28T19:00:17.494980Z",
     "start_time": "2024-05-28T19:00:17.444728Z"
    }
   },
   "id": "6c571c6c0e4eb151"
  },
  {
   "cell_type": "code",
   "execution_count": 17,
   "outputs": [
    {
     "data": {
      "text/plain": "tensor([[   0,    0,    0,  ..., 2276, 2276, 2276],\n        [1161, 1667, 1991,  ..., 2212, 2246, 2276]])"
     },
     "execution_count": 17,
     "metadata": {},
     "output_type": "execute_result"
    }
   ],
   "source": [
    "data.edge_index"
   ],
   "metadata": {
    "collapsed": false,
    "ExecuteTime": {
     "end_time": "2024-05-28T19:00:17.495210Z",
     "start_time": "2024-05-28T19:00:17.447065Z"
    }
   },
   "id": "1f01481ca13f51aa"
  },
  {
   "cell_type": "code",
   "execution_count": 18,
   "outputs": [
    {
     "data": {
      "text/plain": "array([0, 3, 3, ..., 0, 4, 0])"
     },
     "execution_count": 18,
     "metadata": {},
     "output_type": "execute_result"
    }
   ],
   "source": [
    "data.y.numpy()"
   ],
   "metadata": {
    "collapsed": false,
    "ExecuteTime": {
     "end_time": "2024-05-28T19:00:17.495369Z",
     "start_time": "2024-05-28T19:00:17.450855Z"
    }
   },
   "id": "a1df6516f545568f"
  },
  {
   "cell_type": "code",
   "execution_count": 19,
   "outputs": [],
   "source": [
    "from io import BytesIO\n",
    "from urllib.request import urlopen\n",
    "from zipfile import ZipFile\n",
    "\n",
    "url = 'https://snap.stanford.edu/data/wikipedia.zip'\n",
    "with urlopen(url) as zurl:\n",
    "    with ZipFile(BytesIO(zurl.read())) as zfile:\n",
    "        zfile.extractall('.')"
   ],
   "metadata": {
    "collapsed": false,
    "ExecuteTime": {
     "end_time": "2024-05-28T19:00:22.937006Z",
     "start_time": "2024-05-28T19:00:17.453119Z"
    }
   },
   "id": "22a938f24edeba8a"
  },
  {
   "cell_type": "code",
   "execution_count": 20,
   "outputs": [
    {
     "data": {
      "text/plain": "        id  target\n0        0     171\n1        1    8089\n2        2    8568\n3        3   47178\n4        4    3634\n...    ...     ...\n2272  2272   31418\n2273  2273    2716\n2274  2274      99\n2275  2275   22898\n2276  2276     276\n\n[2277 rows x 2 columns]",
      "text/html": "<div>\n<style scoped>\n    .dataframe tbody tr th:only-of-type {\n        vertical-align: middle;\n    }\n\n    .dataframe tbody tr th {\n        vertical-align: top;\n    }\n\n    .dataframe thead th {\n        text-align: right;\n    }\n</style>\n<table border=\"1\" class=\"dataframe\">\n  <thead>\n    <tr style=\"text-align: right;\">\n      <th></th>\n      <th>id</th>\n      <th>target</th>\n    </tr>\n  </thead>\n  <tbody>\n    <tr>\n      <th>0</th>\n      <td>0</td>\n      <td>171</td>\n    </tr>\n    <tr>\n      <th>1</th>\n      <td>1</td>\n      <td>8089</td>\n    </tr>\n    <tr>\n      <th>2</th>\n      <td>2</td>\n      <td>8568</td>\n    </tr>\n    <tr>\n      <th>3</th>\n      <td>3</td>\n      <td>47178</td>\n    </tr>\n    <tr>\n      <th>4</th>\n      <td>4</td>\n      <td>3634</td>\n    </tr>\n    <tr>\n      <th>...</th>\n      <td>...</td>\n      <td>...</td>\n    </tr>\n    <tr>\n      <th>2272</th>\n      <td>2272</td>\n      <td>31418</td>\n    </tr>\n    <tr>\n      <th>2273</th>\n      <td>2273</td>\n      <td>2716</td>\n    </tr>\n    <tr>\n      <th>2274</th>\n      <td>2274</td>\n      <td>99</td>\n    </tr>\n    <tr>\n      <th>2275</th>\n      <td>2275</td>\n      <td>22898</td>\n    </tr>\n    <tr>\n      <th>2276</th>\n      <td>2276</td>\n      <td>276</td>\n    </tr>\n  </tbody>\n</table>\n<p>2277 rows × 2 columns</p>\n</div>"
     },
     "execution_count": 20,
     "metadata": {},
     "output_type": "execute_result"
    }
   ],
   "source": [
    "df = pd.read_csv('wikipedia/chameleon/musae_chameleon_target.csv')\n",
    "df"
   ],
   "metadata": {
    "collapsed": false,
    "ExecuteTime": {
     "end_time": "2024-05-28T19:00:22.946676Z",
     "start_time": "2024-05-28T19:00:22.936549Z"
    }
   },
   "id": "51f33da27a622c"
  },
  {
   "cell_type": "code",
   "execution_count": 21,
   "outputs": [
    {
     "data": {
      "text/plain": "508957"
     },
     "execution_count": 21,
     "metadata": {},
     "output_type": "execute_result"
    }
   ],
   "source": [
    "df['target'].max()"
   ],
   "metadata": {
    "collapsed": false,
    "ExecuteTime": {
     "end_time": "2024-05-28T19:00:22.952329Z",
     "start_time": "2024-05-28T19:00:22.948101Z"
    }
   },
   "id": "d0ab22527d6cae7f"
  },
  {
   "cell_type": "code",
   "execution_count": 22,
   "outputs": [
    {
     "data": {
      "text/plain": "15"
     },
     "execution_count": 22,
     "metadata": {},
     "output_type": "execute_result"
    }
   ],
   "source": [
    "df['target'].min()"
   ],
   "metadata": {
    "collapsed": false,
    "ExecuteTime": {
     "end_time": "2024-05-28T19:00:22.955960Z",
     "start_time": "2024-05-28T19:00:22.950800Z"
    }
   },
   "id": "cb1250a6f6f8a235"
  },
  {
   "cell_type": "code",
   "execution_count": 23,
   "outputs": [
    {
     "data": {
      "text/plain": "tensor([2.2330, 3.9079, 3.9329,  ..., 1.9956, 4.3598, 2.4409],\n       dtype=torch.float64)"
     },
     "execution_count": 23,
     "metadata": {},
     "output_type": "execute_result"
    }
   ],
   "source": [
    "values = np.log10(df['target'])\n",
    "data.y = torch.tensor(values)\n",
    "data.y"
   ],
   "metadata": {
    "collapsed": false,
    "ExecuteTime": {
     "end_time": "2024-05-28T19:00:22.969929Z",
     "start_time": "2024-05-28T19:00:22.957295Z"
    }
   },
   "id": "dbdbdf6454e869e8"
  },
  {
   "cell_type": "code",
   "execution_count": 24,
   "outputs": [
    {
     "data": {
      "text/plain": "0         171\n1        8089\n2        8568\n3       47178\n4        3634\n        ...  \n2272    31418\n2273     2716\n2274       99\n2275    22898\n2276      276\nName: target, Length: 2277, dtype: int64"
     },
     "execution_count": 24,
     "metadata": {},
     "output_type": "execute_result"
    }
   ],
   "source": [
    "df['target']"
   ],
   "metadata": {
    "collapsed": false,
    "ExecuteTime": {
     "end_time": "2024-05-28T19:00:22.982935Z",
     "start_time": "2024-05-28T19:00:22.960882Z"
    }
   },
   "id": "d80760dd4b2eba37"
  },
  {
   "cell_type": "code",
   "execution_count": 25,
   "outputs": [
    {
     "data": {
      "text/plain": "torch.Size([2277])"
     },
     "execution_count": 25,
     "metadata": {},
     "output_type": "execute_result"
    }
   ],
   "source": [
    "data.y.shape"
   ],
   "metadata": {
    "collapsed": false,
    "ExecuteTime": {
     "end_time": "2024-05-28T19:00:22.983159Z",
     "start_time": "2024-05-28T19:00:22.963550Z"
    }
   },
   "id": "1629ba89b4494734"
  },
  {
   "cell_type": "code",
   "execution_count": 26,
   "outputs": [
    {
     "data": {
      "text/plain": "0       2.232996\n1       3.907895\n2       3.932879\n3       4.673740\n4       3.560385\n          ...   \n2272    4.497179\n2273    3.433930\n2274    1.995635\n2275    4.359798\n2276    2.440909\nName: target, Length: 2277, dtype: float64"
     },
     "execution_count": 26,
     "metadata": {},
     "output_type": "execute_result"
    }
   ],
   "source": [
    "values = np.log10(df['target'])\n",
    "values"
   ],
   "metadata": {
    "collapsed": false,
    "ExecuteTime": {
     "end_time": "2024-05-28T19:00:22.983276Z",
     "start_time": "2024-05-28T19:00:22.967399Z"
    }
   },
   "id": "ba30fe07137da1aa"
  },
  {
   "cell_type": "code",
   "execution_count": 27,
   "outputs": [
    {
     "name": "stdout",
     "output_type": "stream",
     "text": [
      "torch.Size([2277])\n"
     ]
    },
    {
     "data": {
      "text/plain": "tensor([2.2330, 3.9079, 3.9329,  ..., 1.9956, 4.3598, 2.4409],\n       dtype=torch.float64)"
     },
     "execution_count": 27,
     "metadata": {},
     "output_type": "execute_result"
    }
   ],
   "source": [
    "data.y = torch.tensor(values)\n",
    "print(data.y.shape)\n",
    "data.y"
   ],
   "metadata": {
    "collapsed": false,
    "ExecuteTime": {
     "end_time": "2024-05-28T19:00:23.006675Z",
     "start_time": "2024-05-28T19:00:22.972260Z"
    }
   },
   "id": "8bad96120b01b289"
  },
  {
   "cell_type": "code",
   "execution_count": 28,
   "outputs": [
    {
     "data": {
      "text/plain": "<BarContainer object of 63 artists>"
     },
     "execution_count": 28,
     "metadata": {},
     "output_type": "execute_result"
    },
    {
     "data": {
      "text/plain": "<Figure size 640x480 with 1 Axes>",
      "image/png": "[encoded data removed]"
     },
     "metadata": {},
     "output_type": "display_data"
    }
   ],
   "source": [
    "from torch_geometric.utils import degree\n",
    "from collections import Counter\n",
    "\n",
    "# Get list of degrees for each node\n",
    "degrees = degree(data.edge_index[0]).numpy()\n",
    "\n",
    "# Count the number of nodes for each degree\n",
    "numbers = Counter(degrees)\n",
    "\n",
    "# Bar plot\n",
    "fig, ax = plt.subplots()\n",
    "ax.set_xlabel('Node degree')\n",
    "ax.set_ylabel('Number of nodes')\n",
    "plt.bar(numbers.keys(), numbers.values())"
   ],
   "metadata": {
    "collapsed": false,
    "ExecuteTime": {
     "end_time": "2024-05-28T19:00:23.108365Z",
     "start_time": "2024-05-28T19:00:22.975084Z"
    }
   },
   "id": "2a27bc9a901c2b18"
  },
  {
   "cell_type": "code",
   "execution_count": 29,
   "outputs": [
    {
     "data": {
      "text/plain": "Counter({4.0: 190,\n         1.0: 172,\n         2.0: 148,\n         7.0: 146,\n         5.0: 144,\n         6.0: 126,\n         18.0: 123,\n         3.0: 122,\n         10.0: 107,\n         8.0: 78,\n         11.0: 78,\n         13.0: 67,\n         9.0: 66,\n         12.0: 62,\n         33.0: 54,\n         25.0: 49,\n         14.0: 34,\n         16.0: 32,\n         23.0: 31,\n         29.0: 31,\n         51.0: 31,\n         20.0: 29,\n         52.0: 24,\n         24.0: 23,\n         50.0: 22,\n         31.0: 22,\n         28.0: 20,\n         17.0: 18,\n         72.0: 16,\n         41.0: 15,\n         71.0: 14,\n         57.0: 11,\n         63.0: 11,\n         65.0: 10,\n         30.0: 10,\n         15.0: 10,\n         62.0: 9,\n         19.0: 9,\n         66.0: 9,\n         78.0: 8,\n         53.0: 8,\n         74.0: 7,\n         80.0: 7,\n         64.0: 7,\n         48.0: 7,\n         56.0: 6,\n         38.0: 6,\n         67.0: 5,\n         21.0: 5,\n         70.0: 5,\n         54.0: 5,\n         69.0: 4,\n         73.0: 3,\n         68.0: 3,\n         61.0: 3,\n         22.0: 3,\n         77.0: 3,\n         43.0: 2,\n         81.0: 2,\n         75.0: 2,\n         36.0: 1,\n         88.0: 1,\n         79.0: 1})"
     },
     "execution_count": 29,
     "metadata": {},
     "output_type": "execute_result"
    }
   ],
   "source": [
    "numbers"
   ],
   "metadata": {
    "collapsed": false,
    "ExecuteTime": {
     "end_time": "2024-05-28T19:00:23.111349Z",
     "start_time": "2024-05-28T19:00:23.107874Z"
    }
   },
   "id": "69c4de46bafc3ec6"
  },
  {
   "cell_type": "code",
   "execution_count": 30,
   "outputs": [
    {
     "name": "stderr",
     "output_type": "stream",
     "text": [
      "/var/folders/21/yhy2dhmx219b7cbcq243hmwc0000gn/T/ipykernel_12946/94643677.py:5: UserWarning: \n",
      "\n",
      "`distplot` is a deprecated function and will be removed in seaborn v0.14.0.\n",
      "\n",
      "Please adapt your code to use either `displot` (a figure-level function with\n",
      "similar flexibility) or `histplot` (an axes-level function for histograms).\n",
      "\n",
      "For a guide to updating your code to use the new functions, please see\n",
      "https://gist.github.com/mwaskom/de44147ed2974457ad6372750bbe5751\n",
      "\n",
      "  fig = sns.distplot(df['target'], fit=norm)\n"
     ]
    },
    {
     "data": {
      "text/plain": "<Figure size 640x480 with 1 Axes>",
      "image/png": "[encoded data removed]"
     },
     "metadata": {},
     "output_type": "display_data"
    }
   ],
   "source": [
    "import seaborn as sns\n",
    "from scipy.stats import norm\n",
    "\n",
    "df['target'] = values\n",
    "fig = sns.distplot(df['target'], fit=norm)"
   ],
   "metadata": {
    "collapsed": false,
    "ExecuteTime": {
     "end_time": "2024-05-28T19:00:23.226097Z",
     "start_time": "2024-05-28T19:00:23.112735Z"
    }
   },
   "id": "77fb36b4b4a72621"
  },
  {
   "cell_type": "code",
   "execution_count": 31,
   "outputs": [
    {
     "data": {
      "text/plain": "0       2.232996\n1       3.907895\n2       3.932879\n3       4.673740\n4       3.560385\n          ...   \n2272    4.497179\n2273    3.433930\n2274    1.995635\n2275    4.359798\n2276    2.440909\nName: target, Length: 2277, dtype: float64"
     },
     "execution_count": 31,
     "metadata": {},
     "output_type": "execute_result"
    }
   ],
   "source": [
    "df['target']"
   ],
   "metadata": {
    "collapsed": false,
    "ExecuteTime": {
     "end_time": "2024-05-28T19:00:23.226271Z",
     "start_time": "2024-05-28T19:00:23.216821Z"
    }
   },
   "id": "f4e62582ebffc32b"
  },
  {
   "cell_type": "code",
   "execution_count": 32,
   "outputs": [
    {
     "data": {
      "text/plain": "torch.Size([2277, 2325])"
     },
     "execution_count": 32,
     "metadata": {},
     "output_type": "execute_result"
    }
   ],
   "source": [
    "data.x.shape"
   ],
   "metadata": {
    "collapsed": false,
    "ExecuteTime": {
     "end_time": "2024-05-28T19:00:23.226354Z",
     "start_time": "2024-05-28T19:00:23.220845Z"
    }
   },
   "id": "a19fa660cec28046"
  },
  {
   "cell_type": "code",
   "execution_count": 33,
   "outputs": [
    {
     "data": {
      "text/plain": "torch.Size([2, 36101])"
     },
     "execution_count": 33,
     "metadata": {},
     "output_type": "execute_result"
    }
   ],
   "source": [
    "data.edge_index.shape"
   ],
   "metadata": {
    "collapsed": false,
    "ExecuteTime": {
     "end_time": "2024-05-28T19:00:23.226420Z",
     "start_time": "2024-05-28T19:00:23.223318Z"
    }
   },
   "id": "da37e59c349602e9"
  },
  {
   "cell_type": "code",
   "execution_count": 34,
   "outputs": [],
   "source": [
    "torch.manual_seed(1)\n",
    "import torch.nn.functional as F\n",
    "from torch.nn.modules import Linear\n",
    "from torch_geometric.nn import GCNConv"
   ],
   "metadata": {
    "collapsed": false,
    "ExecuteTime": {
     "end_time": "2024-05-28T19:00:23.240999Z",
     "start_time": "2024-05-28T19:00:23.225595Z"
    }
   },
   "id": "29605cafdfb246ea"
  },
  {
   "cell_type": "code",
   "execution_count": 35,
   "outputs": [],
   "source": [
    "def accuracy(y_pred,y_true):\n",
    "    return torch.sum(y_pred == y_true)"
   ],
   "metadata": {
    "collapsed": false,
    "ExecuteTime": {
     "end_time": "2024-05-28T19:00:23.246144Z",
     "start_time": "2024-05-28T19:00:23.237834Z"
    }
   },
   "id": "c4510834e5b86c0a"
  },
  {
   "cell_type": "code",
   "execution_count": 36,
   "outputs": [],
   "source": [
    "class GCN(torch.nn.Module):\n",
    "    def __init__(self,dim_in,dim_h,dim_out):\n",
    "        super().__init__()\n",
    "        self.gcn1 = GCNConv(dim_in,dim_h*4)\n",
    "        self.gcn2 = GCNConv(dim_h*4,dim_h*2)\n",
    "        self.gcn3 = GCNConv(dim_h*2,dim_h)\n",
    "        self.linear = Linear(dim_h,dim_out)\n",
    "    \n",
    "    def forward(self,x,edge_index):\n",
    "        h = self.gcn1(x,edge_index)\n",
    "        h = torch.relu(h)\n",
    "        h = F.dropout(h,p=0.5,training=self.training)\n",
    "        h = self.gcn2(h, edge_index)\n",
    "        h = torch.relu(h)\n",
    "        h = F.dropout(h, p=0.5, training=self.training)\n",
    "        h = self.gcn3(h, edge_index)\n",
    "        h = torch.relu(h)\n",
    "        h = self.linear(h)\n",
    "        return h\n",
    "    \n",
    "    def fit(self,data,epochs):\n",
    "        optimizer = torch.optim.Adam(self.parameters(),\n",
    "                                      lr=0.02,\n",
    "                                      weight_decay=5e-4)\n",
    "        self.train()\n",
    "        for epoch in range(epochs+1):\n",
    "            optimizer.zero_grad()\n",
    "            out = self(data.x,data.edge_index)\n",
    "            loss = F.mse_loss(out.squeeze()[data.train_mask], data.y[data.train_mask].float())\n",
    "            loss.backward()\n",
    "            optimizer.step()\n",
    "            if epoch % 20 == 0:\n",
    "                val_loss = F.mse_loss(out.squeeze()[data.val_mask], data.y[data.val_mask])\n",
    "                print(f\"Epoch {epoch:>3} | Train Loss: {loss:.5f} | Val Loss: {val_loss:.5f}\")\n",
    "    \n",
    "    def test(self, data):\n",
    "        self.eval()\n",
    "        out = self(data.x, data.edge_index)\n",
    "        return F.mse_loss(out.squeeze()[data.test_mask], data.y[data.test_mask].float())"
   ],
   "metadata": {
    "collapsed": false,
    "ExecuteTime": {
     "end_time": "2024-05-28T19:00:23.247934Z",
     "start_time": "2024-05-28T19:00:23.244207Z"
    }
   },
   "id": "58dc1a4aa89d87ca"
  },
  {
   "cell_type": "code",
   "execution_count": 37,
   "outputs": [
    {
     "data": {
      "text/plain": "GCN(\n  (gcn1): GCNConv(2325, 512)\n  (gcn2): GCNConv(512, 256)\n  (gcn3): GCNConv(256, 128)\n  (linear): Linear(in_features=128, out_features=1, bias=True)\n)"
     },
     "execution_count": 37,
     "metadata": {},
     "output_type": "execute_result"
    }
   ],
   "source": [
    "gcn = GCN(data.num_features,128,1)\n",
    "gcn"
   ],
   "metadata": {
    "collapsed": false,
    "ExecuteTime": {
     "end_time": "2024-05-28T19:00:23.313441Z",
     "start_time": "2024-05-28T19:00:23.264598Z"
    }
   },
   "id": "694b69bd7f21af11"
  },
  {
   "cell_type": "code",
   "execution_count": 38,
   "outputs": [
    {
     "name": "stdout",
     "output_type": "stream",
     "text": [
      "Epoch   0 | Train Loss: 11.74321 | Val Loss: 12.24282\n",
      "Epoch  20 | Train Loss: 11.86638 | Val Loss: 12.34660\n",
      "Epoch  40 | Train Loss: 10.06998 | Val Loss: 10.52666\n",
      "Epoch  60 | Train Loss: 2.20693 | Val Loss: 2.67209\n",
      "Epoch  80 | Train Loss: 0.87213 | Val Loss: 0.91189\n",
      "Epoch 100 | Train Loss: 0.58959 | Val Loss: 0.68909\n",
      "Epoch 120 | Train Loss: 0.53009 | Val Loss: 0.71538\n",
      "Epoch 140 | Train Loss: 0.48262 | Val Loss: 0.71307\n",
      "Epoch 160 | Train Loss: 0.39894 | Val Loss: 0.60930\n",
      "Epoch 180 | Train Loss: 0.40685 | Val Loss: 0.71903\n",
      "Epoch 200 | Train Loss: 0.35642 | Val Loss: 0.76817\n",
      "\n",
      "GCN test loss: 0.57970\n"
     ]
    }
   ],
   "source": [
    "# Train\n",
    "gcn.fit(data, epochs=200)\n",
    "\n",
    "# Test\n",
    "loss = gcn.test(data)\n",
    "print(f'\\nGCN test loss: {loss:.5f}\\n')"
   ],
   "metadata": {
    "collapsed": false,
    "ExecuteTime": {
     "end_time": "2024-05-28T19:00:43.314192Z",
     "start_time": "2024-05-28T19:00:23.283634Z"
    }
   },
   "id": "eabe5fb839b00fb8"
  },
  {
   "cell_type": "code",
   "execution_count": 39,
   "outputs": [
    {
     "name": "stdout",
     "output_type": "stream",
     "text": [
      "===========================================\n",
      "MSE = 0.5797 | RMSE = 0.7614 | MAE = 0.5759\n",
      "===========================================\n"
     ]
    }
   ],
   "source": [
    "from sklearn.metrics import mean_squared_error, mean_absolute_error\n",
    "\n",
    "out = gcn(data.x, data.edge_index)\n",
    "y_pred = out.squeeze()[data.test_mask].detach().numpy()\n",
    "mse = mean_squared_error(data.y[data.test_mask], y_pred)\n",
    "mae = mean_absolute_error(data.y[data.test_mask], y_pred)\n",
    "\n",
    "print('=' * 43)\n",
    "print(f'MSE = {mse:.4f} | RMSE = {np.sqrt(mse):.4f} | MAE = {mae:.4f}')\n",
    "print('=' * 43)"
   ],
   "metadata": {
    "collapsed": false,
    "ExecuteTime": {
     "end_time": "2024-05-28T19:00:43.458210Z",
     "start_time": "2024-05-28T19:00:43.309432Z"
    }
   },
   "id": "a7a37e8af1dc2656"
  },
  {
   "cell_type": "code",
   "execution_count": 40,
   "outputs": [
    {
     "data": {
      "text/plain": "torch.Size([500, 1])"
     },
     "execution_count": 40,
     "metadata": {},
     "output_type": "execute_result"
    }
   ],
   "source": [
    "out[data.test_mask].shape"
   ],
   "metadata": {
    "collapsed": false,
    "ExecuteTime": {
     "end_time": "2024-05-28T19:00:43.461343Z",
     "start_time": "2024-05-28T19:00:43.458355Z"
    }
   },
   "id": "7b42d696aefca7d4"
  },
  {
   "cell_type": "code",
   "execution_count": 41,
   "outputs": [
    {
     "data": {
      "text/plain": "tensor([False, False, False,  ..., False, False, False])"
     },
     "execution_count": 41,
     "metadata": {},
     "output_type": "execute_result"
    }
   ],
   "source": [
    "data.test_mask"
   ],
   "metadata": {
    "collapsed": false,
    "ExecuteTime": {
     "end_time": "2024-05-28T19:00:43.464014Z",
     "start_time": "2024-05-28T19:00:43.461215Z"
    }
   },
   "id": "c95be194f950f448"
  },
  {
   "cell_type": "code",
   "execution_count": 42,
   "outputs": [
    {
     "data": {
      "text/plain": "[Text(0.5, 0, 'Ground truth'), Text(0, 0.5, 'Predicted values')]"
     },
     "execution_count": 42,
     "metadata": {},
     "output_type": "execute_result"
    },
    {
     "data": {
      "text/plain": "<Figure size 640x480 with 1 Axes>",
      "image/png": "[encoded data removed]"
     },
     "metadata": {},
     "output_type": "display_data"
    }
   ],
   "source": [
    "fig = sns.regplot(x=data.y[data.test_mask].numpy(), y=y_pred)\n",
    "fig.set(xlabel='Ground truth', ylabel='Predicted values')"
   ],
   "metadata": {
    "collapsed": false,
    "ExecuteTime": {
     "end_time": "2024-05-28T19:00:43.590735Z",
     "start_time": "2024-05-28T19:00:43.464845Z"
    }
   },
   "id": "794b6093b8bdd39f"
  },
  {
   "cell_type": "code",
   "execution_count": 43,
   "outputs": [],
   "source": [
    "data.mask = range(1)"
   ],
   "metadata": {
    "collapsed": false,
    "ExecuteTime": {
     "end_time": "2024-05-28T19:00:43.597817Z",
     "start_time": "2024-05-28T19:00:43.590985Z"
    }
   },
   "id": "d8d2d1030a0eafd6"
  },
  {
   "cell_type": "code",
   "execution_count": 44,
   "outputs": [
    {
     "data": {
      "text/plain": "Data(x=[2277, 2325], edge_index=[2, 36101], y=[2277], train_mask=[2277], val_mask=[2277], test_mask=[2277], mask=[1])"
     },
     "execution_count": 44,
     "metadata": {},
     "output_type": "execute_result"
    }
   ],
   "source": [
    "data"
   ],
   "metadata": {
    "collapsed": false,
    "ExecuteTime": {
     "end_time": "2024-05-28T19:00:43.602964Z",
     "start_time": "2024-05-28T19:00:43.598811Z"
    }
   },
   "id": "857a4f937f324619"
  },
  {
   "cell_type": "code",
   "execution_count": 45,
   "outputs": [],
   "source": [
    "import torch\n",
    "import torch.nn.functional as F\n",
    "from torch.optim import Adam\n",
    "\n",
    "class InputOptimizer:\n",
    "    def __init__(self, model, data, target_output, initial='random'):\n",
    "        self.model = model\n",
    "        self.data = data\n",
    "        self.target_output = target_output.unsqueeze(1)\n",
    "        \n",
    "        # Initialize the input features with random values or zeros\n",
    "        if initial == 'random':\n",
    "            self.optimized_data = data.clone()\n",
    "            self.optimized_data.x = torch.randn_like(data.x, requires_grad=True)\n",
    "        elif initial == 'zeros':\n",
    "            self.optimized_data = data.clone()\n",
    "            self.optimized_data.x = torch.zeros_like(data.x, requires_grad=True)\n",
    "        else:\n",
    "            raise ValueError(\"Initial must be 'random' or 'zeros'\")\n",
    "        \n",
    "        self.optimizer = Adam([self.optimized_data.x], lr=0.01)\n",
    "        print(self.optimized_data.x)\n",
    "\n",
    "    def optimize(self, epochs=200):\n",
    "        for epoch in range(epochs):\n",
    "            self.optimizer.zero_grad()\n",
    "            out = self.model(self.optimized_data.x, self.optimized_data.edge_index)\n",
    "            loss = F.mse_loss(out[data.mask], self.target_output[data.mask])\n",
    "            loss.backward()\n",
    "            self.optimizer.step()\n",
    "            \n",
    "            if epoch % 20 == 0:\n",
    "                print(f\"Epoch {epoch:>3} | Optimization Loss: {loss:.5f}\")\n",
    "        \n",
    "        return self.optimized_data.x\n"
   ],
   "metadata": {
    "collapsed": false,
    "ExecuteTime": {
     "end_time": "2024-05-28T19:00:43.609443Z",
     "start_time": "2024-05-28T19:00:43.604861Z"
    }
   },
   "id": "93ce03f51feebae2"
  },
  {
   "cell_type": "code",
   "execution_count": 46,
   "outputs": [
    {
     "data": {
      "text/plain": "Data(x=[2277, 2325], edge_index=[2, 36101], y=[2277], train_mask=[2277], val_mask=[2277], test_mask=[2277], mask=[1])"
     },
     "execution_count": 46,
     "metadata": {},
     "output_type": "execute_result"
    }
   ],
   "source": [
    "data"
   ],
   "metadata": {
    "collapsed": false,
    "ExecuteTime": {
     "end_time": "2024-05-28T19:00:43.664228Z",
     "start_time": "2024-05-28T19:00:43.608524Z"
    }
   },
   "id": "e234337ee008705d"
  },
  {
   "cell_type": "code",
   "execution_count": 47,
   "outputs": [
    {
     "data": {
      "text/plain": "tensor(5.7067, dtype=torch.float64)"
     },
     "execution_count": 47,
     "metadata": {},
     "output_type": "execute_result"
    }
   ],
   "source": [
    "data.y.max()"
   ],
   "metadata": {
    "collapsed": false,
    "ExecuteTime": {
     "end_time": "2024-05-28T19:00:43.664426Z",
     "start_time": "2024-05-28T19:00:43.612020Z"
    }
   },
   "id": "99e60e5fefacec89"
  },
  {
   "cell_type": "code",
   "execution_count": 48,
   "outputs": [
    {
     "data": {
      "text/plain": "tensor([[0., 0., 0.,  ..., 0., 0., 0.],\n        [0., 0., 0.,  ..., 0., 0., 0.],\n        [0., 0., 0.,  ..., 0., 0., 0.],\n        ...,\n        [0., 0., 0.,  ..., 0., 0., 0.],\n        [0., 1., 0.,  ..., 0., 0., 0.],\n        [0., 0., 0.,  ..., 0., 0., 0.]])"
     },
     "execution_count": 48,
     "metadata": {},
     "output_type": "execute_result"
    }
   ],
   "source": [
    "data.x"
   ],
   "metadata": {
    "collapsed": false,
    "ExecuteTime": {
     "end_time": "2024-05-28T19:00:43.664523Z",
     "start_time": "2024-05-28T19:00:43.616658Z"
    }
   },
   "id": "7d6d35a0bb792eb"
  },
  {
   "cell_type": "code",
   "execution_count": 56,
   "outputs": [
    {
     "name": "stdout",
     "output_type": "stream",
     "text": [
      "tensor([[ 0.4096,  1.0622, -1.7107,  ..., -0.1425,  0.4437,  1.9308],\n",
      "        [-0.5874, -1.1763,  0.6175,  ...,  0.1639, -0.3373, -0.0851],\n",
      "        [-1.0013,  0.7861, -0.6833,  ..., -0.9745, -0.3607,  0.0196],\n",
      "        ...,\n",
      "        [ 0.3145, -0.3949, -1.5423,  ..., -0.3503, -0.7759, -0.3522],\n",
      "        [-1.2430,  1.1910,  0.9296,  ..., -0.0169,  0.8732,  1.3984],\n",
      "        [ 1.2265,  1.1313,  1.6756,  ...,  0.1533, -0.2555,  0.7965]],\n",
      "       requires_grad=True)\n",
      "Epoch   0 | Optimization Loss: 2.46684\n",
      "Epoch  20 | Optimization Loss: 0.01644\n",
      "Epoch  40 | Optimization Loss: 0.00991\n",
      "Epoch  60 | Optimization Loss: 0.00991\n",
      "Epoch  80 | Optimization Loss: 0.00991\n",
      "Epoch 100 | Optimization Loss: 0.00991\n",
      "Epoch 120 | Optimization Loss: 0.00991\n",
      "Epoch 140 | Optimization Loss: 0.00991\n",
      "Epoch 160 | Optimization Loss: 0.00991\n",
      "Epoch 180 | Optimization Loss: 0.00991\n"
     ]
    }
   ],
   "source": [
    "# Example usage\n",
    "# Assuming gcn is the trained model and data is the dataset\n",
    "desired_value = 2.5# Example desired value for the target output\n",
    "target_output = torch.tensor([desired_value for _ in range(data.num_nodes)], dtype=torch.float)\n",
    "\n",
    "# Instantiate the optimizer with random initial inputs\n",
    "input_optimizer = InputOptimizer(model=gcn, data=data, target_output=target_output, initial='random')\n",
    "\n",
    "# Perform the optimization\n",
    "optimized_inputs = input_optimizer.optimize(epochs=200)\n"
   ],
   "metadata": {
    "collapsed": false,
    "ExecuteTime": {
     "end_time": "2024-05-28T19:02:09.326256Z",
     "start_time": "2024-05-28T19:01:49.183796Z"
    }
   },
   "id": "b5e96603b938cade"
  },
  {
   "cell_type": "code",
   "execution_count": 57,
   "outputs": [
    {
     "data": {
      "text/plain": "torch.Size([2277, 2325])"
     },
     "execution_count": 57,
     "metadata": {},
     "output_type": "execute_result"
    }
   ],
   "source": [
    "optimized_inputs.shape"
   ],
   "metadata": {
    "collapsed": false,
    "ExecuteTime": {
     "end_time": "2024-05-28T19:02:14.585597Z",
     "start_time": "2024-05-28T19:02:14.575258Z"
    }
   },
   "id": "9d82c9dab789439b"
  },
  {
   "cell_type": "code",
   "execution_count": 58,
   "outputs": [
    {
     "data": {
      "text/plain": "tensor([[ 0.2356,  1.1845, -1.5499,  ..., -0.0535,  0.5395,  1.9058],\n        [-0.5874, -1.1763,  0.6175,  ...,  0.1639, -0.3373, -0.0851],\n        [-1.0013,  0.7861, -0.6833,  ..., -0.9745, -0.3607,  0.0196],\n        ...,\n        [ 0.3145, -0.3949, -1.5423,  ..., -0.3503, -0.7759, -0.3522],\n        [-1.2430,  1.1910,  0.9296,  ..., -0.0169,  0.8732,  1.3984],\n        [ 1.2265,  1.1313,  1.6756,  ...,  0.1533, -0.2555,  0.7965]],\n       requires_grad=True)"
     },
     "execution_count": 58,
     "metadata": {},
     "output_type": "execute_result"
    }
   ],
   "source": [
    "optimized_inputs"
   ],
   "metadata": {
    "collapsed": false,
    "ExecuteTime": {
     "end_time": "2024-05-28T19:02:15.678246Z",
     "start_time": "2024-05-28T19:02:15.664122Z"
    }
   },
   "id": "3e00d46a80124832"
  },
  {
   "cell_type": "code",
   "execution_count": 59,
   "outputs": [],
   "source": [
    "y_pred = gcn(optimized_inputs,data.edge_index)"
   ],
   "metadata": {
    "collapsed": false,
    "ExecuteTime": {
     "end_time": "2024-05-28T19:02:21.686477Z",
     "start_time": "2024-05-28T19:02:21.608793Z"
    }
   },
   "id": "2573184a8f51bdf1"
  },
  {
   "cell_type": "code",
   "execution_count": 60,
   "outputs": [
    {
     "data": {
      "text/plain": "tensor([[2.5996],\n        [5.5928],\n        [3.8391],\n        ...,\n        [4.5059],\n        [4.9442],\n        [6.0105]], grad_fn=<AddmmBackward0>)"
     },
     "execution_count": 60,
     "metadata": {},
     "output_type": "execute_result"
    }
   ],
   "source": [
    "y_pred"
   ],
   "metadata": {
    "collapsed": false,
    "ExecuteTime": {
     "end_time": "2024-05-28T19:02:22.472404Z",
     "start_time": "2024-05-28T19:02:22.466763Z"
    }
   },
   "id": "fefa2e9f2e8a2400"
  }
 ],
 "metadata": {
  "kernelspec": {
   "display_name": "Python 3",
   "language": "python",
   "name": "python3"
  },
  "language_info": {
   "codemirror_mode": {
    "name": "ipython",
    "version": 2
   },
   "file_extension": ".py",
   "mimetype": "text/x-python",
   "name": "python",
   "nbconvert_exporter": "python",
   "pygments_lexer": "ipython2",
   "version": "2.7.6"
  }
 },
 "nbformat": 4,
 "nbformat_minor": 5
}

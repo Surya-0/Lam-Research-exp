{
 "cells": [
  {
   "cell_type": "code",
   "execution_count": 1,
   "id": "initial_id",
   "metadata": {
    "collapsed": true,
    "ExecuteTime": {
     "end_time": "2024-05-28T04:47:02.006532Z",
     "start_time": "2024-05-28T04:46:58.598014Z"
    }
   },
   "outputs": [],
   "source": [
    "import numpy as np\n",
    "import pandas as pd\n",
    "import matplotlib.pyplot as plt\n",
    "import torch\n",
    "from torch_geometric_temporal.signal import temporal_signal_split\n",
    "from torch_geometric_temporal.dataset import WikiMathsDatasetLoader\n",
    "from torch_geometric_temporal.nn.recurrent import EvolveGCNH\n",
    "from tqdm import tqdm"
   ]
  },
  {
   "cell_type": "code",
   "execution_count": 2,
   "outputs": [],
   "source": [
    "dataset = WikiMathsDatasetLoader().get_dataset()\n",
    "train_dataset, test_dataset = temporal_signal_split(dataset, train_ratio=0.75)"
   ],
   "metadata": {
    "collapsed": false,
    "ExecuteTime": {
     "end_time": "2024-05-28T04:47:04.321846Z",
     "start_time": "2024-05-28T04:47:02.005689Z"
    }
   },
   "id": "a1decf1fcb70491"
  },
  {
   "cell_type": "code",
   "execution_count": 3,
   "outputs": [
    {
     "data": {
      "text/plain": "Data(x=[1068, 8], edge_index=[2, 27079], edge_attr=[27079], y=[1068])"
     },
     "execution_count": 3,
     "metadata": {},
     "output_type": "execute_result"
    }
   ],
   "source": [
    "train_dataset[0]"
   ],
   "metadata": {
    "collapsed": false,
    "ExecuteTime": {
     "end_time": "2024-05-28T04:47:04.336707Z",
     "start_time": "2024-05-28T04:47:04.326705Z"
    }
   },
   "id": "215cae32618812f6"
  },
  {
   "cell_type": "code",
   "execution_count": 4,
   "outputs": [
    {
     "data": {
      "text/plain": "tensor([[-0.4323, -0.4739,  0.2659,  ...,  0.6412,  0.2179, -0.7617],\n        [-0.4041, -0.4165, -0.0751,  ...,  0.4464, -0.3916, -0.8137],\n        [-0.3892,  0.0634,  0.5913,  ...,  0.2776, -0.0724, -0.8116],\n        ...,\n        [-0.0232,  0.0580,  0.8699,  ...,  0.6263, -0.2668, -0.9975],\n        [-0.9213, -0.3829,  0.7834,  ...,  0.6040,  0.4245, -0.2035],\n        [-0.3530, -0.4638,  0.0311,  ...,  0.1012, -0.0982, -0.7666]])"
     },
     "execution_count": 4,
     "metadata": {},
     "output_type": "execute_result"
    }
   ],
   "source": [
    "train_dataset[0].x"
   ],
   "metadata": {
    "collapsed": false,
    "ExecuteTime": {
     "end_time": "2024-05-28T04:47:04.408662Z",
     "start_time": "2024-05-28T04:47:04.336854Z"
    }
   },
   "id": "58a6dbca4706185b"
  },
  {
   "cell_type": "code",
   "execution_count": 5,
   "outputs": [
    {
     "data": {
      "text/plain": "tensor([-0.4067, -0.1620, -0.4043,  ..., -0.9163, -1.0110, -0.5007])"
     },
     "execution_count": 5,
     "metadata": {},
     "output_type": "execute_result"
    }
   ],
   "source": [
    "train_dataset[0].y"
   ],
   "metadata": {
    "collapsed": false,
    "ExecuteTime": {
     "end_time": "2024-05-28T04:47:04.419775Z",
     "start_time": "2024-05-28T04:47:04.404911Z"
    }
   },
   "id": "6d67ea71131f9a96"
  },
  {
   "cell_type": "code",
   "execution_count": 6,
   "outputs": [
    {
     "data": {
      "text/plain": "Data(x=[1068, 8], edge_index=[2, 27079], edge_attr=[27079], y=[1068])"
     },
     "execution_count": 6,
     "metadata": {},
     "output_type": "execute_result"
    }
   ],
   "source": [
    "train_dataset[1]"
   ],
   "metadata": {
    "collapsed": false,
    "ExecuteTime": {
     "end_time": "2024-05-28T04:47:04.420414Z",
     "start_time": "2024-05-28T04:47:04.410567Z"
    }
   },
   "id": "93c019486cee5f77"
  },
  {
   "cell_type": "code",
   "execution_count": 7,
   "outputs": [
    {
     "data": {
      "text/plain": "tensor([[-0.4739,  0.2659,  0.4844,  ...,  0.2179, -0.7617, -0.4067],\n        [-0.4165, -0.0751,  0.1484,  ..., -0.3916, -0.8137, -0.1620],\n        [ 0.0634,  0.5913,  0.5370,  ..., -0.0724, -0.8116, -0.4043],\n        ...,\n        [ 0.0580,  0.8699,  2.9809,  ..., -0.2668, -0.9975, -0.9163],\n        [-0.3829,  0.7834,  0.7834,  ...,  0.4245, -0.2035, -1.0110],\n        [-0.4638,  0.0311,  0.1012,  ..., -0.0982, -0.7666, -0.5007]])"
     },
     "execution_count": 7,
     "metadata": {},
     "output_type": "execute_result"
    }
   ],
   "source": [
    "train_dataset[1].x"
   ],
   "metadata": {
    "collapsed": false,
    "ExecuteTime": {
     "end_time": "2024-05-28T04:47:04.569798Z",
     "start_time": "2024-05-28T04:47:04.417867Z"
    }
   },
   "id": "fd4353fcf154ff8e"
  },
  {
   "cell_type": "code",
   "execution_count": 8,
   "outputs": [
    {
     "data": {
      "text/plain": "tensor([0.3064, 0.3470, 0.7482,  ..., 2.2502, 1.8601, 0.1492])"
     },
     "execution_count": 8,
     "metadata": {},
     "output_type": "execute_result"
    }
   ],
   "source": [
    "train_dataset[1].y"
   ],
   "metadata": {
    "collapsed": false,
    "ExecuteTime": {
     "end_time": "2024-05-28T04:47:04.570814Z",
     "start_time": "2024-05-28T04:47:04.423027Z"
    }
   },
   "id": "96238c4652b97bb9"
  },
  {
   "cell_type": "code",
   "execution_count": 9,
   "outputs": [],
   "source": [
    "import torch\n",
    "import torch.nn as nn\n",
    "import torch.optim as optim\n",
    "from tqdm import tqdm\n"
   ],
   "metadata": {
    "collapsed": false,
    "ExecuteTime": {
     "end_time": "2024-05-28T04:47:04.571378Z",
     "start_time": "2024-05-28T04:47:04.431933Z"
    }
   },
   "id": "70c04f2d7eba1ee0"
  },
  {
   "cell_type": "code",
   "execution_count": 10,
   "outputs": [],
   "source": [
    "\n",
    "class TemporalGNN(nn.Module):\n",
    "    def __init__(self, node_count, dim_in):\n",
    "        super(TemporalGNN, self).__init__()\n",
    "        self.recurrent = EvolveGCNH(node_count, dim_in)\n",
    "        self.linear = nn.Linear(dim_in, 1)\n",
    "\n",
    "    def forward(self, x, edge_index, edge_weight):\n",
    "        h = self.recurrent(x, edge_index, edge_weight).relu()\n",
    "        h = self.linear(h)\n",
    "        return h"
   ],
   "metadata": {
    "collapsed": false,
    "ExecuteTime": {
     "end_time": "2024-05-28T04:47:04.571646Z",
     "start_time": "2024-05-28T04:47:04.438243Z"
    }
   },
   "id": "815e98d9ad64601d"
  },
  {
   "cell_type": "code",
   "execution_count": 11,
   "outputs": [
    {
     "data": {
      "text/plain": "TemporalGNN(\n  (recurrent): EvolveGCNH(\n    (pooling_layer): TopKPooling(8, ratio=0.00749063670411985, multiplier=1.0)\n    (recurrent_layer): GRU(8, 8)\n    (conv_layer): GCNConv_Fixed_W(8, 8)\n  )\n  (linear): Linear(in_features=8, out_features=1, bias=True)\n)"
     },
     "execution_count": 11,
     "metadata": {},
     "output_type": "execute_result"
    }
   ],
   "source": [
    "# Instantiate the forward model\n",
    "model = TemporalGNN(node_count=dataset[0].x.shape[0], dim_in=dataset[0].x.shape[1])\n",
    "optimizer = optim.Adam(model.parameters(), lr=0.01)\n",
    "model.train()"
   ],
   "metadata": {
    "collapsed": false,
    "ExecuteTime": {
     "end_time": "2024-05-28T04:47:04.611779Z",
     "start_time": "2024-05-28T04:47:04.445239Z"
    }
   },
   "id": "392c121165761c51"
  },
  {
   "cell_type": "code",
   "execution_count": 12,
   "outputs": [
    {
     "name": "stderr",
     "output_type": "stream",
     "text": [
      "100%|██████████| 50/50 [02:23<00:00,  2.88s/it]\n"
     ]
    }
   ],
   "source": [
    "# Train the forward model\n",
    "for epoch in tqdm(range(50)):\n",
    "    for snapshot in train_dataset:\n",
    "        y_pred = model(snapshot.x, snapshot.edge_index, snapshot.edge_attr)\n",
    "        loss = torch.mean((y_pred - snapshot.y) ** 2)\n",
    "        loss.backward()\n",
    "        optimizer.step()\n",
    "        optimizer.zero_grad()"
   ],
   "metadata": {
    "collapsed": false,
    "ExecuteTime": {
     "end_time": "2024-05-28T04:49:28.338305Z",
     "start_time": "2024-05-28T04:47:04.554651Z"
    }
   },
   "id": "2ac545fe048efc5a"
  },
  {
   "cell_type": "code",
   "execution_count": 13,
   "outputs": [
    {
     "name": "stdout",
     "output_type": "stream",
     "text": [
      "Test MSE = 0.9543\n"
     ]
    }
   ],
   "source": [
    "# Evaluate the forward model\n",
    "model.eval()\n",
    "test_loss = 0\n",
    "for i, snapshot in enumerate(test_dataset):\n",
    "    y_pred = model(snapshot.x, snapshot.edge_index, snapshot.edge_attr)\n",
    "    mse = torch.mean((y_pred - snapshot.y) ** 2)\n",
    "    test_loss += mse\n",
    "test_loss = test_loss / (i + 1)\n",
    "print(f'Test MSE = {test_loss.item():.4f}')"
   ],
   "metadata": {
    "collapsed": false,
    "ExecuteTime": {
     "end_time": "2024-05-28T04:49:28.819269Z",
     "start_time": "2024-05-28T04:49:28.331412Z"
    }
   },
   "id": "9806bd43cbb47833"
  },
  {
   "cell_type": "code",
   "execution_count": 19,
   "outputs": [],
   "source": [
    "# Define the InverseTemporalGNN model\n",
    "class InverseTemporalGNN:\n",
    "    def __init__(self, forward_model, lr=0.01):\n",
    "        self.forward_model = forward_model\n",
    "        self.lr = lr\n",
    "\n",
    "    def optimize_inputs(self, initial_inputs, edge_index, edge_weight, target_outputs, epochs=100):\n",
    "        inputs = initial_inputs.clone().detach().requires_grad_(True)\n",
    "        optimizer = optim.Adam([inputs], lr=self.lr)\n",
    "\n",
    "        # Reshape the target_outputs to match the predictions' shape\n",
    "        target_outputs = target_outputs.view(-1, 1)\n",
    "\n",
    "        for epoch in tqdm(range(epochs)):\n",
    "            optimizer.zero_grad()\n",
    "            predictions = self.forward_model(inputs, edge_index, edge_weight)\n",
    "            loss = nn.MSELoss()(predictions, target_outputs)\n",
    "            loss.backward()\n",
    "            optimizer.step()\n",
    "\n",
    "        return inputs.detach()\n"
   ],
   "metadata": {
    "collapsed": false,
    "ExecuteTime": {
     "end_time": "2024-05-28T04:50:06.709291Z",
     "start_time": "2024-05-28T04:50:06.708509Z"
    }
   },
   "id": "e44c04255066308c"
  },
  {
   "cell_type": "code",
   "execution_count": 20,
   "outputs": [],
   "source": [
    "# Instantiate the inverse model\n",
    "inverse_model = InverseTemporalGNN(model, lr=0.01)"
   ],
   "metadata": {
    "collapsed": false,
    "ExecuteTime": {
     "end_time": "2024-05-28T04:50:13.965157Z",
     "start_time": "2024-05-28T04:50:13.962588Z"
    }
   },
   "id": "44bc5e818f369052"
  },
  {
   "cell_type": "code",
   "execution_count": 16,
   "outputs": [
    {
     "name": "stdout",
     "output_type": "stream",
     "text": [
      "542\n"
     ]
    }
   ],
   "source": [
    "m = 0\n",
    "for i in train_dataset:\n",
    "    m+=1\n",
    "print(m)"
   ],
   "metadata": {
    "collapsed": false,
    "ExecuteTime": {
     "end_time": "2024-05-28T04:49:28.874456Z",
     "start_time": "2024-05-28T04:49:28.826738Z"
    }
   },
   "id": "fa335fb980a7a426"
  },
  {
   "cell_type": "code",
   "execution_count": 17,
   "outputs": [
    {
     "name": "stdout",
     "output_type": "stream",
     "text": [
      "181\n"
     ]
    }
   ],
   "source": [
    "n = 0\n",
    "for i in test_dataset:\n",
    "    n+=1\n",
    "print(n)"
   ],
   "metadata": {
    "collapsed": false,
    "ExecuteTime": {
     "end_time": "2024-05-28T04:49:28.876015Z",
     "start_time": "2024-05-28T04:49:28.842261Z"
    }
   },
   "id": "9461516b642a2d6b"
  },
  {
   "cell_type": "code",
   "execution_count": 33,
   "outputs": [
    {
     "data": {
      "text/plain": "tensor([-0.4067, -0.1620, -0.4043,  ..., -0.9163, -1.0110, -0.5007])"
     },
     "execution_count": 33,
     "metadata": {},
     "output_type": "execute_result"
    }
   ],
   "source": [
    "y_true = train_dataset[0].y\n",
    "y_true"
   ],
   "metadata": {
    "collapsed": false,
    "ExecuteTime": {
     "end_time": "2024-05-28T04:58:04.196827Z",
     "start_time": "2024-05-28T04:58:04.191620Z"
    }
   },
   "id": "96dfa90a6e7f2814"
  },
  {
   "cell_type": "code",
   "execution_count": 31,
   "outputs": [
    {
     "data": {
      "text/plain": "tensor([[-0.6051],\n        [-0.6694],\n        [-1.1557],\n        ...,\n        [-0.2152],\n        [-0.2614],\n        [-0.3901]], grad_fn=<AddmmBackward0>)"
     },
     "execution_count": 31,
     "metadata": {},
     "output_type": "execute_result"
    }
   ],
   "source": [
    "y_pred = model(train_dataset[0].x, train_dataset[0].edge_index, train_dataset[0].edge_attr)\n",
    "y_pred"
   ],
   "metadata": {
    "collapsed": false,
    "ExecuteTime": {
     "end_time": "2024-05-28T04:57:15.858093Z",
     "start_time": "2024-05-28T04:57:15.845729Z"
    }
   },
   "id": "b4358061ed735003"
  },
  {
   "cell_type": "code",
   "execution_count": 34,
   "outputs": [
    {
     "data": {
      "text/plain": "tensor(0.3063, grad_fn=<MeanBackward0>)"
     },
     "execution_count": 34,
     "metadata": {},
     "output_type": "execute_result"
    }
   ],
   "source": [
    "torch.mean((y_pred-y_true)**2)"
   ],
   "metadata": {
    "collapsed": false,
    "ExecuteTime": {
     "end_time": "2024-05-28T04:58:25.716664Z",
     "start_time": "2024-05-28T04:58:25.708178Z"
    }
   },
   "id": "1fca4dac483f94d2"
  },
  {
   "cell_type": "code",
   "execution_count": 42,
   "outputs": [
    {
     "data": {
      "text/plain": "tensor([ 0.5772, -0.7393,  1.1736,  ..., -0.5104,  0.6040, -0.1093])"
     },
     "execution_count": 42,
     "metadata": {},
     "output_type": "execute_result"
    }
   ],
   "source": [
    "y_true_test = test_dataset[2].y\n",
    "y_true_test"
   ],
   "metadata": {
    "collapsed": false,
    "ExecuteTime": {
     "end_time": "2024-05-28T05:00:30.589790Z",
     "start_time": "2024-05-28T05:00:30.563769Z"
    }
   },
   "id": "a9001a61f73fe4e3"
  },
  {
   "cell_type": "code",
   "execution_count": 45,
   "outputs": [
    {
     "data": {
      "text/plain": "tensor([[ 0.9130,  0.6742, -0.2639,  ...,  0.8885,  1.2307,  1.2051],\n        [-0.1123,  0.5643, -0.7331,  ..., -0.3047, -0.4537, -0.0751],\n        [ 1.5990,  1.3818, -0.0030,  ...,  2.1964,  2.5675,  2.2205],\n        ...,\n        [ 0.0580, -0.1044, -0.7539,  ..., -0.2668, -0.1044, -0.3480],\n        [ 0.1554,  0.7834,  0.6040,  ...,  2.3087,  1.2320,  1.0526],\n        [ 0.1419, -0.0723, -0.5746,  ...,  0.3339,  0.4631,  0.2120]])"
     },
     "execution_count": 45,
     "metadata": {},
     "output_type": "execute_result"
    }
   ],
   "source": [
    "test_dataset[2].x"
   ],
   "metadata": {
    "collapsed": false,
    "ExecuteTime": {
     "end_time": "2024-05-28T05:01:40.809820Z",
     "start_time": "2024-05-28T05:01:40.805768Z"
    }
   },
   "id": "632e21a0f289bb4d"
  },
  {
   "cell_type": "code",
   "execution_count": 41,
   "outputs": [
    {
     "data": {
      "text/plain": "tensor([[ 0.1176],\n        [ 0.0798],\n        [ 0.3456],\n        ...,\n        [-0.2158],\n        [-0.1412],\n        [-0.1183]], grad_fn=<AddmmBackward0>)"
     },
     "execution_count": 41,
     "metadata": {},
     "output_type": "execute_result"
    }
   ],
   "source": [
    "y_pred_test = model(test_dataset[2].x,test_dataset[2].edge_index,test_dataset[2].edge_attr)\n",
    "y_pred_test"
   ],
   "metadata": {
    "collapsed": false,
    "ExecuteTime": {
     "end_time": "2024-05-28T05:00:23.366758Z",
     "start_time": "2024-05-28T05:00:23.350369Z"
    }
   },
   "id": "8ef8720e77858fee"
  },
  {
   "cell_type": "code",
   "execution_count": 43,
   "outputs": [
    {
     "data": {
      "text/plain": "tensor(0.6232, grad_fn=<MeanBackward0>)"
     },
     "execution_count": 43,
     "metadata": {},
     "output_type": "execute_result"
    }
   ],
   "source": [
    "torch.mean((y_true_test-y_pred_test)**2)"
   ],
   "metadata": {
    "collapsed": false,
    "ExecuteTime": {
     "end_time": "2024-05-28T05:00:33.078091Z",
     "start_time": "2024-05-28T05:00:33.069876Z"
    }
   },
   "id": "b2bcc6a39a87e1bf"
  },
  {
   "cell_type": "code",
   "execution_count": 79,
   "outputs": [
    {
     "name": "stderr",
     "output_type": "stream",
     "text": [
      "100%|██████████| 2000/2000 [00:04<00:00, 489.97it/s]"
     ]
    },
    {
     "name": "stdout",
     "output_type": "stream",
     "text": [
      "initial_inputs :  tensor([[0.5913, 0.2369, 0.9110,  ..., 0.5659, 0.9896, 0.4009],\n",
      "        [0.0859, 0.5484, 0.7577,  ..., 0.8816, 0.0766, 0.3686],\n",
      "        [0.9923, 0.5065, 0.4042,  ..., 0.9693, 0.3701, 0.4639],\n",
      "        ...,\n",
      "        [0.7581, 0.4797, 0.0401,  ..., 0.4210, 0.5876, 0.1154],\n",
      "        [0.4213, 0.7540, 0.5499,  ..., 0.4747, 0.1034, 0.6268],\n",
      "        [0.7224, 0.5920, 0.5727,  ..., 0.5704, 0.6778, 0.7637]])\n",
      "Optimized Inputs: tensor([[ 1.0794,  1.1733,  0.6859,  ..., -0.5140,  0.6223, -0.4099],\n",
      "        [-0.4826, -0.1800,  1.0287,  ...,  1.1560,  0.7842,  0.0693],\n",
      "        [-0.8906,  0.5577,  4.7070,  ...,  3.5420,  3.3562,  0.1525],\n",
      "        ...,\n",
      "        [-0.5538,  0.7734, -0.6664,  ...,  0.5363, -0.8809,  0.3537],\n",
      "        [-0.2862,  1.7210,  0.7613,  ...,  0.2813, -0.9586, -0.1862],\n",
      "        [-0.3406,  0.0762,  0.3883,  ..., -0.2808, -0.2929,  0.4687]])\n"
     ]
    },
    {
     "name": "stderr",
     "output_type": "stream",
     "text": [
      "\n"
     ]
    }
   ],
   "source": [
    "target_outputs = test_dataset[2].y\n",
    "initial_inputs = torch.rand_like(test_dataset[2].x)\n",
    "edge_index = test_dataset[2].edge_index\n",
    "edge_weight = test_dataset[2].edge_weight\n",
    "\n",
    "optimized_inputs = inverse_model.optimize_inputs(initial_inputs, edge_index, edge_weight, target_outputs, epochs=2000) \n",
    "print(f'initial_inputs :  {initial_inputs}')\n",
    "print(f'Optimized Inputs: {optimized_inputs}')"
   ],
   "metadata": {
    "collapsed": false,
    "ExecuteTime": {
     "end_time": "2024-05-28T05:52:21.956273Z",
     "start_time": "2024-05-28T05:52:17.865316Z"
    }
   },
   "id": "42ef6dd7ff29cc18"
  },
  {
   "cell_type": "code",
   "execution_count": 80,
   "outputs": [
    {
     "data": {
      "text/plain": "tensor([-0.4067, -0.1620, -0.4043,  ..., -0.9163, -1.0110, -0.5007])"
     },
     "execution_count": 80,
     "metadata": {},
     "output_type": "execute_result"
    }
   ],
   "source": [
    "y_true"
   ],
   "metadata": {
    "collapsed": false,
    "ExecuteTime": {
     "end_time": "2024-05-28T05:52:21.959186Z",
     "start_time": "2024-05-28T05:52:21.954473Z"
    }
   },
   "id": "bfd304d95edea3bc"
  },
  {
   "cell_type": "code",
   "execution_count": 81,
   "outputs": [
    {
     "data": {
      "text/plain": "tensor([[-0.0254],\n        [ 0.0108],\n        [ 0.1660],\n        ...,\n        [-0.1626],\n        [-0.0573],\n        [-0.0436]], grad_fn=<AddmmBackward0>)"
     },
     "execution_count": 81,
     "metadata": {},
     "output_type": "execute_result"
    }
   ],
   "source": [
    "y_pred_initial_test = model(initial_inputs,test_dataset[2].edge_index,test_dataset[2].edge_attr)\n",
    "y_pred_initial_test"
   ],
   "metadata": {
    "collapsed": false,
    "ExecuteTime": {
     "end_time": "2024-05-28T05:52:21.965550Z",
     "start_time": "2024-05-28T05:52:21.957709Z"
    }
   },
   "id": "a71f10f9f4bb4ea7"
  },
  {
   "cell_type": "code",
   "execution_count": 82,
   "outputs": [
    {
     "data": {
      "text/plain": "tensor([[ 0.6078],\n        [ 0.0906],\n        [ 0.3956],\n        ...,\n        [-0.3328],\n        [ 0.8006],\n        [-0.1194]], grad_fn=<AddmmBackward0>)"
     },
     "execution_count": 82,
     "metadata": {},
     "output_type": "execute_result"
    }
   ],
   "source": [
    "y_pred_optim_test = model(optimized_inputs,test_dataset[2].edge_index,test_dataset[2].edge_attr)\n",
    "y_pred_optim_test"
   ],
   "metadata": {
    "collapsed": false,
    "ExecuteTime": {
     "end_time": "2024-05-28T05:52:21.968516Z",
     "start_time": "2024-05-28T05:52:21.963186Z"
    }
   },
   "id": "a2d830ed85b0bd0e"
  },
  {
   "cell_type": "code",
   "execution_count": 83,
   "outputs": [
    {
     "data": {
      "text/plain": "tensor(0.9975, grad_fn=<MeanBackward0>)"
     },
     "execution_count": 83,
     "metadata": {},
     "output_type": "execute_result"
    }
   ],
   "source": [
    "torch.mean((y_true - y_pred_optim_test)**2)"
   ],
   "metadata": {
    "collapsed": false,
    "ExecuteTime": {
     "end_time": "2024-05-28T05:52:22.014391Z",
     "start_time": "2024-05-28T05:52:21.968407Z"
    }
   },
   "id": "fbd1738c30fd83bf"
  },
  {
   "cell_type": "code",
   "execution_count": 84,
   "outputs": [
    {
     "data": {
      "text/plain": "tensor(0.4574, grad_fn=<MeanBackward0>)"
     },
     "execution_count": 84,
     "metadata": {},
     "output_type": "execute_result"
    }
   ],
   "source": [
    "torch.mean((y_true - y_pred_initial_test)**2)"
   ],
   "metadata": {
    "collapsed": false,
    "ExecuteTime": {
     "end_time": "2024-05-28T05:52:22.020402Z",
     "start_time": "2024-05-28T05:52:21.972991Z"
    }
   },
   "id": "2113b9d05e50b286"
  },
  {
   "cell_type": "code",
   "execution_count": 22,
   "outputs": [
    {
     "name": "stderr",
     "output_type": "stream",
     "text": [
      "100%|██████████| 100/100 [00:00<00:00, 406.70it/s]\n"
     ]
    },
    {
     "name": "stdout",
     "output_type": "stream",
     "text": [
      "initial_inputs :  tensor([[-1.7819e+00, -8.4877e-01, -8.3737e-02,  ..., -1.2228e+00,\n",
      "         -6.4525e-02, -8.9364e-01],\n",
      "        [-1.1322e+00,  8.5030e-01,  1.5404e+00,  ..., -1.3122e-01,\n",
      "          1.1210e+00,  1.5799e-01],\n",
      "        [-1.3442e-01,  1.2540e+00,  7.0148e-01,  ...,  9.2039e-01,\n",
      "         -1.0771e+00,  1.6157e-01],\n",
      "        ...,\n",
      "        [ 1.6828e-01,  3.1733e-01,  5.3488e-01,  ...,  6.1489e-01,\n",
      "          9.1285e-02,  6.7807e-01],\n",
      "        [ 1.0924e+00,  4.8166e-01, -4.7915e-01,  ..., -1.4607e-01,\n",
      "         -6.3834e-01, -4.4304e-01],\n",
      "        [-1.4466e+00, -1.2917e-03, -7.8040e-01,  ..., -5.3888e-01,\n",
      "         -6.8017e-01, -9.6322e-01]])\n",
      "Optimized Inputs: tensor([[-2.3742, -0.0892,  0.0226,  ..., -2.0512, -0.7220, -0.3116],\n",
      "        [-1.7331,  1.7145,  1.6312,  ..., -0.7509,  0.5382,  0.7129],\n",
      "        [-0.7274,  2.0600,  0.6546,  ...,  0.2650, -1.7136,  0.7555],\n",
      "        ...,\n",
      "        [-0.8076,  1.2067,  1.3044,  ...,  1.0535,  0.7309,  1.5071],\n",
      "        [ 0.0453,  1.4327,  0.3633,  ...,  0.3017,  0.0252,  0.4605],\n",
      "        [-1.9716,  0.5233, -0.7497,  ..., -0.1440, -1.1381, -0.4587]])\n"
     ]
    },
    {
     "name": "stderr",
     "output_type": "stream",
     "text": [
      "100%|██████████| 100/100 [00:00<00:00, 387.71it/s]\n"
     ]
    },
    {
     "name": "stdout",
     "output_type": "stream",
     "text": [
      "initial_inputs :  tensor([[-1.8203, -0.8891, -1.0472,  ...,  0.7187, -0.8608,  1.4376],\n",
      "        [ 0.5687, -1.3044, -0.4427,  ..., -0.1589, -0.1065, -1.2774],\n",
      "        [ 1.6476, -0.9147,  0.9241,  ...,  0.1245, -0.1792, -0.3054],\n",
      "        ...,\n",
      "        [-1.1385,  0.5700,  0.8394,  ...,  2.0902, -0.2614,  0.8643],\n",
      "        [ 0.5293, -0.7613, -0.5302,  ..., -1.9009, -0.3454, -0.4922],\n",
      "        [ 0.5020,  0.3953,  1.1336,  ..., -1.3184,  0.0086, -0.1347]])\n",
      "Optimized Inputs: tensor([[-2.3187, -0.3942, -0.6218,  ...,  0.1919, -0.9141,  1.8947],\n",
      "        [ 0.1112, -0.8441, -0.0205,  ..., -0.5400, -0.3385, -0.8166],\n",
      "        [ 1.0835, -0.3692,  1.3711,  ..., -0.5142, -0.5288,  0.2205],\n",
      "        ...,\n",
      "        [-1.3634,  0.9430,  1.2191,  ...,  1.9542,  0.0170,  1.2883],\n",
      "        [-0.4686,  0.0762,  0.2985,  ..., -2.4469, -0.2400,  0.3362],\n",
      "        [ 0.1414,  0.7864,  1.3887,  ..., -0.6159, -0.2550,  0.2761]])\n"
     ]
    },
    {
     "name": "stderr",
     "output_type": "stream",
     "text": [
      "100%|██████████| 100/100 [00:00<00:00, 422.65it/s]\n"
     ]
    },
    {
     "name": "stdout",
     "output_type": "stream",
     "text": [
      "initial_inputs :  tensor([[-1.0069, -0.0998, -0.8662,  ..., -0.0183, -0.3008, -1.1260],\n",
      "        [ 1.7833,  0.4633, -0.0275,  ...,  0.0586, -0.1113,  0.1466],\n",
      "        [ 0.8730, -0.9788, -1.6347,  ..., -0.3973,  1.3741,  0.8343],\n",
      "        ...,\n",
      "        [-0.1733, -0.2425,  1.9155,  ...,  1.1309, -0.6051,  0.0883],\n",
      "        [ 0.2414,  0.5669, -0.0931,  ..., -0.2054, -0.1310,  0.2230],\n",
      "        [ 0.4754, -0.5049,  0.2204,  ...,  1.3215,  1.4774,  0.1721]])\n",
      "Optimized Inputs: tensor([[-1.5597,  0.4197, -0.5394,  ..., -0.0042, -0.7592, -0.7020],\n",
      "        [ 1.3516,  0.9154,  0.3482,  ..., -0.2415, -0.5149,  0.4858],\n",
      "        [ 0.2369, -0.4431, -1.3374,  ..., -0.5240,  0.8258,  1.3222],\n",
      "        ...,\n",
      "        [ 0.2684, -0.8221,  1.1492,  ...,  1.5058,  0.2798, -0.6462],\n",
      "        [-0.6654,  1.5254,  0.8380,  ..., -0.3579,  0.3524,  1.1418],\n",
      "        [ 0.2470, -0.3107,  0.4600,  ...,  0.9580,  1.2466,  0.4060]])\n"
     ]
    },
    {
     "name": "stderr",
     "output_type": "stream",
     "text": [
      "100%|██████████| 100/100 [00:00<00:00, 427.77it/s]\n"
     ]
    },
    {
     "name": "stdout",
     "output_type": "stream",
     "text": [
      "initial_inputs :  tensor([[-0.5651,  0.6357, -0.2353,  ..., -0.6774, -1.4530,  0.5332],\n",
      "        [-0.6571,  0.3525,  1.3900,  ..., -0.8270, -0.5448,  0.4703],\n",
      "        [ 0.2877, -1.4185, -1.2331,  ..., -0.5954, -1.6798, -0.8611],\n",
      "        ...,\n",
      "        [ 0.4950,  1.3204, -0.3998,  ...,  0.7332, -0.6343, -1.0405],\n",
      "        [ 2.5235, -0.6522,  1.1166,  ..., -0.4120, -0.7443, -0.2228],\n",
      "        [ 1.6995, -0.9441, -0.6766,  ..., -2.6963, -0.5515, -0.4392]])\n",
      "Optimized Inputs: tensor([[-0.0289,  0.1326, -1.0134,  ..., -0.2616, -0.8996, -0.0822],\n",
      "        [-0.2305, -0.1244,  0.6554,  ..., -0.2782, -0.0557, -0.0261],\n",
      "        [ 0.3331, -1.5486, -0.9447,  ..., -0.2328, -1.5046, -0.8269],\n",
      "        ...,\n",
      "        [ 1.2452,  0.7184, -1.0068,  ...,  0.1405,  0.0700, -1.7979],\n",
      "        [ 2.5090, -0.7586,  1.0950,  ..., -0.1040, -0.6834, -0.2346],\n",
      "        [ 1.6947, -1.0652, -0.8614,  ..., -2.3859, -0.4777, -0.5138]])\n"
     ]
    },
    {
     "name": "stderr",
     "output_type": "stream",
     "text": [
      "100%|██████████| 100/100 [00:00<00:00, 418.20it/s]\n"
     ]
    },
    {
     "name": "stdout",
     "output_type": "stream",
     "text": [
      "initial_inputs :  tensor([[ 0.4372,  0.5690,  0.2983,  ..., -0.3450,  0.4513,  0.1294],\n",
      "        [-1.4398,  0.8932, -0.0105,  ...,  0.3506,  2.1400,  0.9133],\n",
      "        [ 0.3330, -0.8129, -1.6310,  ...,  1.8416,  0.1824, -1.3265],\n",
      "        ...,\n",
      "        [ 0.7819,  0.4139,  1.8826,  ..., -1.9787,  0.6523, -1.2700],\n",
      "        [-0.4204, -0.3247, -1.5765,  ..., -0.5057, -0.3565,  0.4269],\n",
      "        [ 1.1008,  0.7272, -0.7923,  ..., -0.8752, -0.0240, -0.1018]])\n",
      "Optimized Inputs: tensor([[ 0.7073,  0.3607, -0.0626,  ..., -0.5717,  0.6643, -0.1686],\n",
      "        [-1.0017,  0.4154, -0.3904,  ..., -0.0894,  2.5624,  0.3539],\n",
      "        [-0.0571, -0.5506, -0.8546,  ...,  1.8553, -0.2660, -0.9667],\n",
      "        ...,\n",
      "        [ 0.8614,  0.1609,  1.6621,  ..., -1.6555,  0.6671, -1.3977],\n",
      "        [-1.3470,  0.4244, -0.7781,  ..., -0.0852, -1.2740,  1.3781],\n",
      "        [ 1.6838,  0.1546, -1.2563,  ..., -1.1094,  0.5681, -0.6715]])\n"
     ]
    },
    {
     "name": "stderr",
     "output_type": "stream",
     "text": [
      "100%|██████████| 100/100 [00:00<00:00, 428.93it/s]\n"
     ]
    },
    {
     "name": "stdout",
     "output_type": "stream",
     "text": [
      "initial_inputs :  tensor([[ 0.3405,  0.1450, -0.7867,  ...,  0.5504,  0.8432, -1.8363],\n",
      "        [-0.6062, -0.0463,  1.4582,  ...,  0.3437, -0.5503, -0.0655],\n",
      "        [ 1.1803,  1.9108, -1.7447,  ...,  0.7691, -1.0671, -0.0679],\n",
      "        ...,\n",
      "        [-0.3618,  0.2769, -0.9969,  ..., -0.4325, -1.2916, -0.6721],\n",
      "        [-0.4209, -1.3855,  0.8994,  ...,  1.9339,  1.3508, -1.0670],\n",
      "        [-1.0093,  0.3118, -0.4987,  ..., -0.0705, -1.4551, -1.0362]])\n",
      "Optimized Inputs: tensor([[-0.3422,  0.7502, -0.1709,  ...,  1.0087,  0.3806, -1.2977],\n",
      "        [-1.0894,  0.4030,  1.9284,  ...,  0.6691, -0.9126,  0.3442],\n",
      "        [ 0.6296,  2.3971, -1.1821,  ...,  0.9482, -1.3935,  0.3442],\n",
      "        ...,\n",
      "        [-0.6223, -0.2670, -1.3403,  ...,  0.2021, -1.0291, -0.6486],\n",
      "        [-1.1512, -0.6351,  1.8050,  ...,  1.5240,  0.9775, -0.5237],\n",
      "        [-1.4655,  0.7535, -0.6587,  ..., -0.2820, -1.7974, -0.7284]])\n"
     ]
    },
    {
     "name": "stderr",
     "output_type": "stream",
     "text": [
      "100%|██████████| 100/100 [00:00<00:00, 424.44it/s]\n"
     ]
    },
    {
     "name": "stdout",
     "output_type": "stream",
     "text": [
      "initial_inputs :  tensor([[ 0.0910,  2.4719, -2.2135,  ...,  0.2131,  0.2249,  0.1740],\n",
      "        [-1.1900,  0.0799, -0.2907,  ...,  1.3856,  0.8639,  0.7088],\n",
      "        [ 0.0490, -0.5204,  0.7313,  ..., -0.9454,  1.4577,  0.2477],\n",
      "        ...,\n",
      "        [-0.3059,  0.7899,  0.6260,  ...,  1.4656, -1.0139,  1.1480],\n",
      "        [ 0.3264,  0.2472,  0.7391,  ..., -0.5449,  0.5184, -2.1213],\n",
      "        [-0.7110, -0.0109, -1.1519,  ..., -0.4448,  0.5476, -0.7143]])\n",
      "Optimized Inputs: tensor([[-0.1334,  2.6078, -2.6046,  ...,  0.1418, -0.0892,  0.4561],\n",
      "        [-1.2810,  0.1650, -0.1202,  ...,  1.3501,  0.6711,  0.9094],\n",
      "        [-0.3221, -0.2510,  0.5844,  ..., -1.1667,  1.0369,  0.6702],\n",
      "        ...,\n",
      "        [-0.9093,  1.3947,  1.1780,  ...,  0.7520, -1.3822,  1.7079],\n",
      "        [-0.4737,  1.0477,  1.4543,  ..., -1.4726,  0.0423, -1.4272],\n",
      "        [-1.2486,  0.5367, -0.6543,  ..., -0.9398,  0.0177, -0.1895]])\n"
     ]
    },
    {
     "name": "stderr",
     "output_type": "stream",
     "text": [
      " 66%|██████▌   | 66/100 [00:00<00:00, 410.01it/s]\n"
     ]
    },
    {
     "ename": "KeyboardInterrupt",
     "evalue": "",
     "output_type": "error",
     "traceback": [
      "\u001B[0;31m---------------------------------------------------------------------------\u001B[0m",
      "\u001B[0;31mKeyboardInterrupt\u001B[0m                         Traceback (most recent call last)",
      "Cell \u001B[0;32mIn[22], line 8\u001B[0m\n\u001B[1;32m      5\u001B[0m edge_index \u001B[38;5;241m=\u001B[39m snapshot\u001B[38;5;241m.\u001B[39medge_index\n\u001B[1;32m      6\u001B[0m edge_weight \u001B[38;5;241m=\u001B[39m snapshot\u001B[38;5;241m.\u001B[39medge_attr\n\u001B[0;32m----> 8\u001B[0m optimized_inputs \u001B[38;5;241m=\u001B[39m \u001B[43minverse_model\u001B[49m\u001B[38;5;241;43m.\u001B[39;49m\u001B[43moptimize_inputs\u001B[49m\u001B[43m(\u001B[49m\u001B[43minitial_inputs\u001B[49m\u001B[43m,\u001B[49m\u001B[43m \u001B[49m\u001B[43medge_index\u001B[49m\u001B[43m,\u001B[49m\u001B[43m \u001B[49m\u001B[43medge_weight\u001B[49m\u001B[43m,\u001B[49m\u001B[43m \u001B[49m\u001B[43mtarget_outputs\u001B[49m\u001B[43m,\u001B[49m\u001B[43m \u001B[49m\u001B[43mepochs\u001B[49m\u001B[38;5;241;43m=\u001B[39;49m\u001B[38;5;241;43m100\u001B[39;49m\u001B[43m)\u001B[49m\n\u001B[1;32m      9\u001B[0m \u001B[38;5;28mprint\u001B[39m(\u001B[38;5;124mf\u001B[39m\u001B[38;5;124m'\u001B[39m\u001B[38;5;124minitial_inputs :  \u001B[39m\u001B[38;5;132;01m{\u001B[39;00minitial_inputs\u001B[38;5;132;01m}\u001B[39;00m\u001B[38;5;124m'\u001B[39m)\n\u001B[1;32m     10\u001B[0m \u001B[38;5;28mprint\u001B[39m(\u001B[38;5;124mf\u001B[39m\u001B[38;5;124m'\u001B[39m\u001B[38;5;124mOptimized Inputs: \u001B[39m\u001B[38;5;132;01m{\u001B[39;00moptimized_inputs\u001B[38;5;132;01m}\u001B[39;00m\u001B[38;5;124m'\u001B[39m)\n",
      "Cell \u001B[0;32mIn[19], line 16\u001B[0m, in \u001B[0;36mInverseTemporalGNN.optimize_inputs\u001B[0;34m(self, initial_inputs, edge_index, edge_weight, target_outputs, epochs)\u001B[0m\n\u001B[1;32m     14\u001B[0m \u001B[38;5;28;01mfor\u001B[39;00m epoch \u001B[38;5;129;01min\u001B[39;00m tqdm(\u001B[38;5;28mrange\u001B[39m(epochs)):\n\u001B[1;32m     15\u001B[0m     optimizer\u001B[38;5;241m.\u001B[39mzero_grad()\n\u001B[0;32m---> 16\u001B[0m     predictions \u001B[38;5;241m=\u001B[39m \u001B[38;5;28;43mself\u001B[39;49m\u001B[38;5;241;43m.\u001B[39;49m\u001B[43mforward_model\u001B[49m\u001B[43m(\u001B[49m\u001B[43minputs\u001B[49m\u001B[43m,\u001B[49m\u001B[43m \u001B[49m\u001B[43medge_index\u001B[49m\u001B[43m,\u001B[49m\u001B[43m \u001B[49m\u001B[43medge_weight\u001B[49m\u001B[43m)\u001B[49m\n\u001B[1;32m     17\u001B[0m     loss \u001B[38;5;241m=\u001B[39m nn\u001B[38;5;241m.\u001B[39mMSELoss()(predictions, target_outputs)\n\u001B[1;32m     18\u001B[0m     loss\u001B[38;5;241m.\u001B[39mbackward()\n",
      "File \u001B[0;32m~/anaconda3/envs/Tf-metal/lib/python3.10/site-packages/torch/nn/modules/module.py:1511\u001B[0m, in \u001B[0;36mModule._wrapped_call_impl\u001B[0;34m(self, *args, **kwargs)\u001B[0m\n\u001B[1;32m   1509\u001B[0m     \u001B[38;5;28;01mreturn\u001B[39;00m \u001B[38;5;28mself\u001B[39m\u001B[38;5;241m.\u001B[39m_compiled_call_impl(\u001B[38;5;241m*\u001B[39margs, \u001B[38;5;241m*\u001B[39m\u001B[38;5;241m*\u001B[39mkwargs)  \u001B[38;5;66;03m# type: ignore[misc]\u001B[39;00m\n\u001B[1;32m   1510\u001B[0m \u001B[38;5;28;01melse\u001B[39;00m:\n\u001B[0;32m-> 1511\u001B[0m     \u001B[38;5;28;01mreturn\u001B[39;00m \u001B[38;5;28;43mself\u001B[39;49m\u001B[38;5;241;43m.\u001B[39;49m\u001B[43m_call_impl\u001B[49m\u001B[43m(\u001B[49m\u001B[38;5;241;43m*\u001B[39;49m\u001B[43margs\u001B[49m\u001B[43m,\u001B[49m\u001B[43m \u001B[49m\u001B[38;5;241;43m*\u001B[39;49m\u001B[38;5;241;43m*\u001B[39;49m\u001B[43mkwargs\u001B[49m\u001B[43m)\u001B[49m\n",
      "File \u001B[0;32m~/anaconda3/envs/Tf-metal/lib/python3.10/site-packages/torch/nn/modules/module.py:1520\u001B[0m, in \u001B[0;36mModule._call_impl\u001B[0;34m(self, *args, **kwargs)\u001B[0m\n\u001B[1;32m   1515\u001B[0m \u001B[38;5;66;03m# If we don't have any hooks, we want to skip the rest of the logic in\u001B[39;00m\n\u001B[1;32m   1516\u001B[0m \u001B[38;5;66;03m# this function, and just call forward.\u001B[39;00m\n\u001B[1;32m   1517\u001B[0m \u001B[38;5;28;01mif\u001B[39;00m \u001B[38;5;129;01mnot\u001B[39;00m (\u001B[38;5;28mself\u001B[39m\u001B[38;5;241m.\u001B[39m_backward_hooks \u001B[38;5;129;01mor\u001B[39;00m \u001B[38;5;28mself\u001B[39m\u001B[38;5;241m.\u001B[39m_backward_pre_hooks \u001B[38;5;129;01mor\u001B[39;00m \u001B[38;5;28mself\u001B[39m\u001B[38;5;241m.\u001B[39m_forward_hooks \u001B[38;5;129;01mor\u001B[39;00m \u001B[38;5;28mself\u001B[39m\u001B[38;5;241m.\u001B[39m_forward_pre_hooks\n\u001B[1;32m   1518\u001B[0m         \u001B[38;5;129;01mor\u001B[39;00m _global_backward_pre_hooks \u001B[38;5;129;01mor\u001B[39;00m _global_backward_hooks\n\u001B[1;32m   1519\u001B[0m         \u001B[38;5;129;01mor\u001B[39;00m _global_forward_hooks \u001B[38;5;129;01mor\u001B[39;00m _global_forward_pre_hooks):\n\u001B[0;32m-> 1520\u001B[0m     \u001B[38;5;28;01mreturn\u001B[39;00m \u001B[43mforward_call\u001B[49m\u001B[43m(\u001B[49m\u001B[38;5;241;43m*\u001B[39;49m\u001B[43margs\u001B[49m\u001B[43m,\u001B[49m\u001B[43m \u001B[49m\u001B[38;5;241;43m*\u001B[39;49m\u001B[38;5;241;43m*\u001B[39;49m\u001B[43mkwargs\u001B[49m\u001B[43m)\u001B[49m\n\u001B[1;32m   1522\u001B[0m \u001B[38;5;28;01mtry\u001B[39;00m:\n\u001B[1;32m   1523\u001B[0m     result \u001B[38;5;241m=\u001B[39m \u001B[38;5;28;01mNone\u001B[39;00m\n",
      "Cell \u001B[0;32mIn[10], line 8\u001B[0m, in \u001B[0;36mTemporalGNN.forward\u001B[0;34m(self, x, edge_index, edge_weight)\u001B[0m\n\u001B[1;32m      7\u001B[0m \u001B[38;5;28;01mdef\u001B[39;00m \u001B[38;5;21mforward\u001B[39m(\u001B[38;5;28mself\u001B[39m, x, edge_index, edge_weight):\n\u001B[0;32m----> 8\u001B[0m     h \u001B[38;5;241m=\u001B[39m \u001B[38;5;28;43mself\u001B[39;49m\u001B[38;5;241;43m.\u001B[39;49m\u001B[43mrecurrent\u001B[49m\u001B[43m(\u001B[49m\u001B[43mx\u001B[49m\u001B[43m,\u001B[49m\u001B[43m \u001B[49m\u001B[43medge_index\u001B[49m\u001B[43m,\u001B[49m\u001B[43m \u001B[49m\u001B[43medge_weight\u001B[49m\u001B[43m)\u001B[49m\u001B[38;5;241m.\u001B[39mrelu()\n\u001B[1;32m      9\u001B[0m     h \u001B[38;5;241m=\u001B[39m \u001B[38;5;28mself\u001B[39m\u001B[38;5;241m.\u001B[39mlinear(h)\n\u001B[1;32m     10\u001B[0m     \u001B[38;5;28;01mreturn\u001B[39;00m h\n",
      "File \u001B[0;32m~/anaconda3/envs/Tf-metal/lib/python3.10/site-packages/torch/nn/modules/module.py:1511\u001B[0m, in \u001B[0;36mModule._wrapped_call_impl\u001B[0;34m(self, *args, **kwargs)\u001B[0m\n\u001B[1;32m   1509\u001B[0m     \u001B[38;5;28;01mreturn\u001B[39;00m \u001B[38;5;28mself\u001B[39m\u001B[38;5;241m.\u001B[39m_compiled_call_impl(\u001B[38;5;241m*\u001B[39margs, \u001B[38;5;241m*\u001B[39m\u001B[38;5;241m*\u001B[39mkwargs)  \u001B[38;5;66;03m# type: ignore[misc]\u001B[39;00m\n\u001B[1;32m   1510\u001B[0m \u001B[38;5;28;01melse\u001B[39;00m:\n\u001B[0;32m-> 1511\u001B[0m     \u001B[38;5;28;01mreturn\u001B[39;00m \u001B[38;5;28;43mself\u001B[39;49m\u001B[38;5;241;43m.\u001B[39;49m\u001B[43m_call_impl\u001B[49m\u001B[43m(\u001B[49m\u001B[38;5;241;43m*\u001B[39;49m\u001B[43margs\u001B[49m\u001B[43m,\u001B[49m\u001B[43m \u001B[49m\u001B[38;5;241;43m*\u001B[39;49m\u001B[38;5;241;43m*\u001B[39;49m\u001B[43mkwargs\u001B[49m\u001B[43m)\u001B[49m\n",
      "File \u001B[0;32m~/anaconda3/envs/Tf-metal/lib/python3.10/site-packages/torch/nn/modules/module.py:1520\u001B[0m, in \u001B[0;36mModule._call_impl\u001B[0;34m(self, *args, **kwargs)\u001B[0m\n\u001B[1;32m   1515\u001B[0m \u001B[38;5;66;03m# If we don't have any hooks, we want to skip the rest of the logic in\u001B[39;00m\n\u001B[1;32m   1516\u001B[0m \u001B[38;5;66;03m# this function, and just call forward.\u001B[39;00m\n\u001B[1;32m   1517\u001B[0m \u001B[38;5;28;01mif\u001B[39;00m \u001B[38;5;129;01mnot\u001B[39;00m (\u001B[38;5;28mself\u001B[39m\u001B[38;5;241m.\u001B[39m_backward_hooks \u001B[38;5;129;01mor\u001B[39;00m \u001B[38;5;28mself\u001B[39m\u001B[38;5;241m.\u001B[39m_backward_pre_hooks \u001B[38;5;129;01mor\u001B[39;00m \u001B[38;5;28mself\u001B[39m\u001B[38;5;241m.\u001B[39m_forward_hooks \u001B[38;5;129;01mor\u001B[39;00m \u001B[38;5;28mself\u001B[39m\u001B[38;5;241m.\u001B[39m_forward_pre_hooks\n\u001B[1;32m   1518\u001B[0m         \u001B[38;5;129;01mor\u001B[39;00m _global_backward_pre_hooks \u001B[38;5;129;01mor\u001B[39;00m _global_backward_hooks\n\u001B[1;32m   1519\u001B[0m         \u001B[38;5;129;01mor\u001B[39;00m _global_forward_hooks \u001B[38;5;129;01mor\u001B[39;00m _global_forward_pre_hooks):\n\u001B[0;32m-> 1520\u001B[0m     \u001B[38;5;28;01mreturn\u001B[39;00m \u001B[43mforward_call\u001B[49m\u001B[43m(\u001B[49m\u001B[38;5;241;43m*\u001B[39;49m\u001B[43margs\u001B[49m\u001B[43m,\u001B[49m\u001B[43m \u001B[49m\u001B[38;5;241;43m*\u001B[39;49m\u001B[38;5;241;43m*\u001B[39;49m\u001B[43mkwargs\u001B[49m\u001B[43m)\u001B[49m\n\u001B[1;32m   1522\u001B[0m \u001B[38;5;28;01mtry\u001B[39;00m:\n\u001B[1;32m   1523\u001B[0m     result \u001B[38;5;241m=\u001B[39m \u001B[38;5;28;01mNone\u001B[39;00m\n",
      "File \u001B[0;32m~/anaconda3/envs/Tf-metal/lib/python3.10/site-packages/torch_geometric_temporal/nn/recurrent/evolvegcnh.py:98\u001B[0m, in \u001B[0;36mEvolveGCNH.forward\u001B[0;34m(self, X, edge_index, edge_weight)\u001B[0m\n\u001B[1;32m     96\u001B[0m W \u001B[38;5;241m=\u001B[39m \u001B[38;5;28mself\u001B[39m\u001B[38;5;241m.\u001B[39mweight[\u001B[38;5;28;01mNone\u001B[39;00m, :, :]\n\u001B[1;32m     97\u001B[0m X_tilde, W \u001B[38;5;241m=\u001B[39m \u001B[38;5;28mself\u001B[39m\u001B[38;5;241m.\u001B[39mrecurrent_layer(X_tilde, W)\n\u001B[0;32m---> 98\u001B[0m X \u001B[38;5;241m=\u001B[39m \u001B[38;5;28;43mself\u001B[39;49m\u001B[38;5;241;43m.\u001B[39;49m\u001B[43mconv_layer\u001B[49m\u001B[43m(\u001B[49m\u001B[43mW\u001B[49m\u001B[38;5;241;43m.\u001B[39;49m\u001B[43msqueeze\u001B[49m\u001B[43m(\u001B[49m\u001B[43mdim\u001B[49m\u001B[38;5;241;43m=\u001B[39;49m\u001B[38;5;241;43m0\u001B[39;49m\u001B[43m)\u001B[49m\u001B[43m,\u001B[49m\u001B[43m \u001B[49m\u001B[43mX\u001B[49m\u001B[43m,\u001B[49m\u001B[43m \u001B[49m\u001B[43medge_index\u001B[49m\u001B[43m,\u001B[49m\u001B[43m \u001B[49m\u001B[43medge_weight\u001B[49m\u001B[43m)\u001B[49m\n\u001B[1;32m     99\u001B[0m \u001B[38;5;28;01mreturn\u001B[39;00m X\n",
      "File \u001B[0;32m~/anaconda3/envs/Tf-metal/lib/python3.10/site-packages/torch/nn/modules/module.py:1511\u001B[0m, in \u001B[0;36mModule._wrapped_call_impl\u001B[0;34m(self, *args, **kwargs)\u001B[0m\n\u001B[1;32m   1509\u001B[0m     \u001B[38;5;28;01mreturn\u001B[39;00m \u001B[38;5;28mself\u001B[39m\u001B[38;5;241m.\u001B[39m_compiled_call_impl(\u001B[38;5;241m*\u001B[39margs, \u001B[38;5;241m*\u001B[39m\u001B[38;5;241m*\u001B[39mkwargs)  \u001B[38;5;66;03m# type: ignore[misc]\u001B[39;00m\n\u001B[1;32m   1510\u001B[0m \u001B[38;5;28;01melse\u001B[39;00m:\n\u001B[0;32m-> 1511\u001B[0m     \u001B[38;5;28;01mreturn\u001B[39;00m \u001B[38;5;28;43mself\u001B[39;49m\u001B[38;5;241;43m.\u001B[39;49m\u001B[43m_call_impl\u001B[49m\u001B[43m(\u001B[49m\u001B[38;5;241;43m*\u001B[39;49m\u001B[43margs\u001B[49m\u001B[43m,\u001B[49m\u001B[43m \u001B[49m\u001B[38;5;241;43m*\u001B[39;49m\u001B[38;5;241;43m*\u001B[39;49m\u001B[43mkwargs\u001B[49m\u001B[43m)\u001B[49m\n",
      "File \u001B[0;32m~/anaconda3/envs/Tf-metal/lib/python3.10/site-packages/torch/nn/modules/module.py:1520\u001B[0m, in \u001B[0;36mModule._call_impl\u001B[0;34m(self, *args, **kwargs)\u001B[0m\n\u001B[1;32m   1515\u001B[0m \u001B[38;5;66;03m# If we don't have any hooks, we want to skip the rest of the logic in\u001B[39;00m\n\u001B[1;32m   1516\u001B[0m \u001B[38;5;66;03m# this function, and just call forward.\u001B[39;00m\n\u001B[1;32m   1517\u001B[0m \u001B[38;5;28;01mif\u001B[39;00m \u001B[38;5;129;01mnot\u001B[39;00m (\u001B[38;5;28mself\u001B[39m\u001B[38;5;241m.\u001B[39m_backward_hooks \u001B[38;5;129;01mor\u001B[39;00m \u001B[38;5;28mself\u001B[39m\u001B[38;5;241m.\u001B[39m_backward_pre_hooks \u001B[38;5;129;01mor\u001B[39;00m \u001B[38;5;28mself\u001B[39m\u001B[38;5;241m.\u001B[39m_forward_hooks \u001B[38;5;129;01mor\u001B[39;00m \u001B[38;5;28mself\u001B[39m\u001B[38;5;241m.\u001B[39m_forward_pre_hooks\n\u001B[1;32m   1518\u001B[0m         \u001B[38;5;129;01mor\u001B[39;00m _global_backward_pre_hooks \u001B[38;5;129;01mor\u001B[39;00m _global_backward_hooks\n\u001B[1;32m   1519\u001B[0m         \u001B[38;5;129;01mor\u001B[39;00m _global_forward_hooks \u001B[38;5;129;01mor\u001B[39;00m _global_forward_pre_hooks):\n\u001B[0;32m-> 1520\u001B[0m     \u001B[38;5;28;01mreturn\u001B[39;00m \u001B[43mforward_call\u001B[49m\u001B[43m(\u001B[49m\u001B[38;5;241;43m*\u001B[39;49m\u001B[43margs\u001B[49m\u001B[43m,\u001B[49m\u001B[43m \u001B[49m\u001B[38;5;241;43m*\u001B[39;49m\u001B[38;5;241;43m*\u001B[39;49m\u001B[43mkwargs\u001B[49m\u001B[43m)\u001B[49m\n\u001B[1;32m   1522\u001B[0m \u001B[38;5;28;01mtry\u001B[39;00m:\n\u001B[1;32m   1523\u001B[0m     result \u001B[38;5;241m=\u001B[39m \u001B[38;5;28;01mNone\u001B[39;00m\n",
      "File \u001B[0;32m~/anaconda3/envs/Tf-metal/lib/python3.10/site-packages/torch_geometric_temporal/nn/recurrent/evolvegcno.py:88\u001B[0m, in \u001B[0;36mGCNConv_Fixed_W.forward\u001B[0;34m(self, W, x, edge_index, edge_weight)\u001B[0m\n\u001B[1;32m     86\u001B[0m     cache \u001B[38;5;241m=\u001B[39m \u001B[38;5;28mself\u001B[39m\u001B[38;5;241m.\u001B[39m_cached_edge_index\n\u001B[1;32m     87\u001B[0m     \u001B[38;5;28;01mif\u001B[39;00m cache \u001B[38;5;129;01mis\u001B[39;00m \u001B[38;5;28;01mNone\u001B[39;00m:\n\u001B[0;32m---> 88\u001B[0m         edge_index, edge_weight \u001B[38;5;241m=\u001B[39m \u001B[43mgcn_norm\u001B[49m\u001B[43m(\u001B[49m\u001B[43m  \u001B[49m\u001B[38;5;66;43;03m# yapf: disable\u001B[39;49;00m\n\u001B[1;32m     89\u001B[0m \u001B[43m            \u001B[49m\u001B[43medge_index\u001B[49m\u001B[43m,\u001B[49m\u001B[43m \u001B[49m\u001B[43medge_weight\u001B[49m\u001B[43m,\u001B[49m\u001B[43m \u001B[49m\u001B[43mx\u001B[49m\u001B[38;5;241;43m.\u001B[39;49m\u001B[43msize\u001B[49m\u001B[43m(\u001B[49m\u001B[38;5;28;43mself\u001B[39;49m\u001B[38;5;241;43m.\u001B[39;49m\u001B[43mnode_dim\u001B[49m\u001B[43m)\u001B[49m\u001B[43m,\u001B[49m\n\u001B[1;32m     90\u001B[0m \u001B[43m            \u001B[49m\u001B[38;5;28;43mself\u001B[39;49m\u001B[38;5;241;43m.\u001B[39;49m\u001B[43mimproved\u001B[49m\u001B[43m,\u001B[49m\u001B[43m \u001B[49m\u001B[38;5;28;43mself\u001B[39;49m\u001B[38;5;241;43m.\u001B[39;49m\u001B[43madd_self_loops\u001B[49m\u001B[43m)\u001B[49m\n\u001B[1;32m     92\u001B[0m x \u001B[38;5;241m=\u001B[39m torch\u001B[38;5;241m.\u001B[39mmatmul(x, W)\n\u001B[1;32m     94\u001B[0m \u001B[38;5;66;03m# propagate_type: (x: Tensor, edge_weight: OptTensor)\u001B[39;00m\n",
      "File \u001B[0;32m~/anaconda3/envs/Tf-metal/lib/python3.10/site-packages/torch_geometric/nn/conv/gcn_conv.py:99\u001B[0m, in \u001B[0;36mgcn_norm\u001B[0;34m(edge_index, edge_weight, num_nodes, improved, add_self_loops, flow, dtype)\u001B[0m\n\u001B[1;32m     96\u001B[0m num_nodes \u001B[38;5;241m=\u001B[39m maybe_num_nodes(edge_index, num_nodes)\n\u001B[1;32m     98\u001B[0m \u001B[38;5;28;01mif\u001B[39;00m add_self_loops:\n\u001B[0;32m---> 99\u001B[0m     edge_index, edge_weight \u001B[38;5;241m=\u001B[39m \u001B[43madd_remaining_self_loops\u001B[49m\u001B[43m(\u001B[49m\n\u001B[1;32m    100\u001B[0m \u001B[43m        \u001B[49m\u001B[43medge_index\u001B[49m\u001B[43m,\u001B[49m\u001B[43m \u001B[49m\u001B[43medge_weight\u001B[49m\u001B[43m,\u001B[49m\u001B[43m \u001B[49m\u001B[43mfill_value\u001B[49m\u001B[43m,\u001B[49m\u001B[43m \u001B[49m\u001B[43mnum_nodes\u001B[49m\u001B[43m)\u001B[49m\n\u001B[1;32m    102\u001B[0m \u001B[38;5;28;01mif\u001B[39;00m edge_weight \u001B[38;5;129;01mis\u001B[39;00m \u001B[38;5;28;01mNone\u001B[39;00m:\n\u001B[1;32m    103\u001B[0m     edge_weight \u001B[38;5;241m=\u001B[39m torch\u001B[38;5;241m.\u001B[39mones((edge_index\u001B[38;5;241m.\u001B[39msize(\u001B[38;5;241m1\u001B[39m), ), dtype\u001B[38;5;241m=\u001B[39mdtype,\n\u001B[1;32m    104\u001B[0m                              device\u001B[38;5;241m=\u001B[39medge_index\u001B[38;5;241m.\u001B[39mdevice)\n",
      "File \u001B[0;32m~/anaconda3/envs/Tf-metal/lib/python3.10/site-packages/torch_geometric/utils/loop.py:654\u001B[0m, in \u001B[0;36madd_remaining_self_loops\u001B[0;34m(edge_index, edge_attr, fill_value, num_nodes)\u001B[0m\n\u001B[1;32m    651\u001B[0m \u001B[38;5;28;01mif\u001B[39;00m \u001B[38;5;129;01mnot\u001B[39;00m torch\u001B[38;5;241m.\u001B[39mjit\u001B[38;5;241m.\u001B[39mis_scripting() \u001B[38;5;129;01mand\u001B[39;00m \u001B[38;5;28misinstance\u001B[39m(edge_index, EdgeIndex):\n\u001B[1;32m    652\u001B[0m     edge_index\u001B[38;5;241m.\u001B[39m_is_undirected \u001B[38;5;241m=\u001B[39m is_undirected\n\u001B[0;32m--> 654\u001B[0m edge_index \u001B[38;5;241m=\u001B[39m \u001B[43mtorch\u001B[49m\u001B[38;5;241;43m.\u001B[39;49m\u001B[43mcat\u001B[49m\u001B[43m(\u001B[49m\u001B[43m[\u001B[49m\u001B[43medge_index\u001B[49m\u001B[43m,\u001B[49m\u001B[43m \u001B[49m\u001B[43mloop_index\u001B[49m\u001B[43m]\u001B[49m\u001B[43m,\u001B[49m\u001B[43m \u001B[49m\u001B[43mdim\u001B[49m\u001B[38;5;241;43m=\u001B[39;49m\u001B[38;5;241;43m1\u001B[39;49m\u001B[43m)\u001B[49m\n\u001B[1;32m    656\u001B[0m \u001B[38;5;28;01mreturn\u001B[39;00m edge_index, edge_attr\n",
      "File \u001B[0;32m~/anaconda3/envs/Tf-metal/lib/python3.10/site-packages/torch_geometric/edge_index.py:1057\u001B[0m, in \u001B[0;36mEdgeIndex.__torch_function__\u001B[0;34m(cls, func, types, args, kwargs)\u001B[0m\n\u001B[1;32m   1037\u001B[0m \u001B[38;5;129m@classmethod\u001B[39m\n\u001B[1;32m   1038\u001B[0m \u001B[38;5;28;01mdef\u001B[39;00m \u001B[38;5;21m__torch_function__\u001B[39m(\n\u001B[1;32m   1039\u001B[0m     \u001B[38;5;28mcls\u001B[39m: Type,\n\u001B[0;32m   (...)\u001B[0m\n\u001B[1;32m   1054\u001B[0m     \u001B[38;5;66;03m# To account for this, we hold a number of `HANDLED_FUNCTIONS` that\u001B[39;00m\n\u001B[1;32m   1055\u001B[0m     \u001B[38;5;66;03m# implement specific functions for valid `EdgeIndex` routines.\u001B[39;00m\n\u001B[1;32m   1056\u001B[0m     \u001B[38;5;28;01mif\u001B[39;00m func \u001B[38;5;129;01min\u001B[39;00m HANDLED_FUNCTIONS:\n\u001B[0;32m-> 1057\u001B[0m         \u001B[38;5;28;01mreturn\u001B[39;00m \u001B[43mHANDLED_FUNCTIONS\u001B[49m\u001B[43m[\u001B[49m\u001B[43mfunc\u001B[49m\u001B[43m]\u001B[49m\u001B[43m(\u001B[49m\u001B[38;5;241;43m*\u001B[39;49m\u001B[43margs\u001B[49m\u001B[43m,\u001B[49m\u001B[43m \u001B[49m\u001B[38;5;241;43m*\u001B[39;49m\u001B[38;5;241;43m*\u001B[39;49m\u001B[43m(\u001B[49m\u001B[43mkwargs\u001B[49m\u001B[43m \u001B[49m\u001B[38;5;129;43;01mor\u001B[39;49;00m\u001B[43m \u001B[49m\u001B[43m{\u001B[49m\u001B[43m}\u001B[49m\u001B[43m)\u001B[49m\u001B[43m)\u001B[49m\n\u001B[1;32m   1059\u001B[0m     \u001B[38;5;66;03m# For all other PyTorch functions, we return a vanilla PyTorch tensor.\u001B[39;00m\n\u001B[1;32m   1060\u001B[0m     _types \u001B[38;5;241m=\u001B[39m \u001B[38;5;28mtuple\u001B[39m(Tensor \u001B[38;5;28;01mif\u001B[39;00m \u001B[38;5;28missubclass\u001B[39m(t, \u001B[38;5;28mcls\u001B[39m) \u001B[38;5;28;01melse\u001B[39;00m t \u001B[38;5;28;01mfor\u001B[39;00m t \u001B[38;5;129;01min\u001B[39;00m types)\n",
      "File \u001B[0;32m~/anaconda3/envs/Tf-metal/lib/python3.10/site-packages/torch_geometric/edge_index.py:1204\u001B[0m, in \u001B[0;36mcat\u001B[0;34m(tensors, dim, out)\u001B[0m\n\u001B[1;32m   1201\u001B[0m \u001B[38;5;28;01mif\u001B[39;00m \u001B[38;5;28mlen\u001B[39m(tensors) \u001B[38;5;241m==\u001B[39m \u001B[38;5;241m1\u001B[39m:\n\u001B[1;32m   1202\u001B[0m     \u001B[38;5;28;01mreturn\u001B[39;00m tensors[\u001B[38;5;241m0\u001B[39m]\n\u001B[0;32m-> 1204\u001B[0m output \u001B[38;5;241m=\u001B[39m \u001B[43mTensor\u001B[49m\u001B[38;5;241;43m.\u001B[39;49m\u001B[43m__torch_function__\u001B[49m\u001B[43m(\u001B[49m\u001B[43mtorch\u001B[49m\u001B[38;5;241;43m.\u001B[39;49m\u001B[43mcat\u001B[49m\u001B[43m,\u001B[49m\u001B[43m \u001B[49m\u001B[43m(\u001B[49m\u001B[43mTensor\u001B[49m\u001B[43m,\u001B[49m\u001B[43m \u001B[49m\u001B[43m)\u001B[49m\u001B[43m,\u001B[49m\u001B[43m \u001B[49m\u001B[43m(\u001B[49m\u001B[43mtensors\u001B[49m\u001B[43m,\u001B[49m\u001B[43m \u001B[49m\u001B[43mdim\u001B[49m\u001B[43m)\u001B[49m\u001B[43m,\u001B[49m\n\u001B[1;32m   1205\u001B[0m \u001B[43m                                   \u001B[49m\u001B[38;5;28;43mdict\u001B[39;49m\u001B[43m(\u001B[49m\u001B[43mout\u001B[49m\u001B[38;5;241;43m=\u001B[39;49m\u001B[43mout\u001B[49m\u001B[43m)\u001B[49m\u001B[43m)\u001B[49m\n\u001B[1;32m   1207\u001B[0m \u001B[38;5;28;01mif\u001B[39;00m dim \u001B[38;5;241m!=\u001B[39m \u001B[38;5;241m1\u001B[39m \u001B[38;5;129;01mand\u001B[39;00m dim \u001B[38;5;241m!=\u001B[39m \u001B[38;5;241m-\u001B[39m\u001B[38;5;241m1\u001B[39m:  \u001B[38;5;66;03m# No valid `EdgeIndex` anymore.\u001B[39;00m\n\u001B[1;32m   1208\u001B[0m     \u001B[38;5;28;01mreturn\u001B[39;00m output\n",
      "File \u001B[0;32m~/anaconda3/envs/Tf-metal/lib/python3.10/site-packages/torch/_tensor.py:1399\u001B[0m, in \u001B[0;36mTensor.__torch_function__\u001B[0;34m(cls, func, types, args, kwargs)\u001B[0m\n\u001B[1;32m   1396\u001B[0m     \u001B[38;5;28;01mreturn\u001B[39;00m \u001B[38;5;28mNotImplemented\u001B[39m\n\u001B[1;32m   1398\u001B[0m \u001B[38;5;28;01mwith\u001B[39;00m _C\u001B[38;5;241m.\u001B[39mDisableTorchFunctionSubclass():\n\u001B[0;32m-> 1399\u001B[0m     ret \u001B[38;5;241m=\u001B[39m \u001B[43mfunc\u001B[49m\u001B[43m(\u001B[49m\u001B[38;5;241;43m*\u001B[39;49m\u001B[43margs\u001B[49m\u001B[43m,\u001B[49m\u001B[43m \u001B[49m\u001B[38;5;241;43m*\u001B[39;49m\u001B[38;5;241;43m*\u001B[39;49m\u001B[43mkwargs\u001B[49m\u001B[43m)\u001B[49m\n\u001B[1;32m   1400\u001B[0m     \u001B[38;5;28;01mif\u001B[39;00m func \u001B[38;5;129;01min\u001B[39;00m get_default_nowrap_functions():\n\u001B[1;32m   1401\u001B[0m         \u001B[38;5;28;01mreturn\u001B[39;00m ret\n",
      "\u001B[0;31mKeyboardInterrupt\u001B[0m: "
     ]
    }
   ],
   "source": [
    "# Example usage of the inverse model\n",
    "for snapshot in test_dataset:\n",
    "    target_outputs = snapshot.y\n",
    "    initial_inputs = torch.randn_like(snapshot.x)  # Initialize with small random values\n",
    "    edge_index = snapshot.edge_index\n",
    "    edge_weight = snapshot.edge_attr\n",
    "\n",
    "    optimized_inputs = inverse_model.optimize_inputs(initial_inputs, edge_index, edge_weight, target_outputs, epochs=100)\n",
    "    print(f'initial_inputs :  {initial_inputs}')\n",
    "    print(f'Optimized Inputs: {optimized_inputs}')"
   ],
   "metadata": {
    "collapsed": false,
    "ExecuteTime": {
     "end_time": "2024-05-28T04:51:19.174514Z",
     "start_time": "2024-05-28T04:51:16.750497Z"
    }
   },
   "id": "c36f17078fd55f21"
  },
  {
   "cell_type": "code",
   "execution_count": null,
   "outputs": [],
   "source": [
    "test_dataset[0].y.shape"
   ],
   "metadata": {
    "collapsed": false,
    "ExecuteTime": {
     "start_time": "2024-05-28T04:49:37.604006Z"
    }
   },
   "id": "fdc40e3ec0403f2f"
  },
  {
   "cell_type": "code",
   "execution_count": null,
   "outputs": [],
   "source": [
    "test_dataset[0].x.shape"
   ],
   "metadata": {
    "collapsed": false,
    "ExecuteTime": {
     "end_time": "2024-05-28T04:49:37.608010Z",
     "start_time": "2024-05-28T04:49:37.605408Z"
    }
   },
   "id": "136a3cf860701105"
  },
  {
   "cell_type": "code",
   "execution_count": null,
   "outputs": [],
   "source": [
    "torch.zeros_like(test_dataset[0].x)"
   ],
   "metadata": {
    "collapsed": false,
    "ExecuteTime": {
     "start_time": "2024-05-28T04:49:37.606942Z"
    }
   },
   "id": "48de2e2be3bbae17"
  },
  {
   "cell_type": "code",
   "execution_count": null,
   "outputs": [],
   "source": [
    "torch.zeros_like(test_dataset[0].y)"
   ],
   "metadata": {
    "collapsed": false,
    "ExecuteTime": {
     "start_time": "2024-05-28T04:49:37.608411Z"
    }
   },
   "id": "e9e7a80fbc096f35"
  },
  {
   "cell_type": "code",
   "execution_count": null,
   "outputs": [],
   "source": [],
   "metadata": {
    "collapsed": false,
    "ExecuteTime": {
     "start_time": "2024-05-28T04:49:37.609975Z"
    }
   },
   "id": "1a37cb003d61e8d0"
  }
 ],
 "metadata": {
  "kernelspec": {
   "display_name": "Python 3",
   "language": "python",
   "name": "python3"
  },
  "language_info": {
   "codemirror_mode": {
    "name": "ipython",
    "version": 2
   },
   "file_extension": ".py",
   "mimetype": "text/x-python",
   "name": "python",
   "nbconvert_exporter": "python",
   "pygments_lexer": "ipython2",
   "version": "2.7.6"
  }
 },
 "nbformat": 4,
 "nbformat_minor": 5
}
